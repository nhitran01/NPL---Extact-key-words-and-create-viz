{
  "nbformat": 4,
  "nbformat_minor": 0,
  "metadata": {
    "colab": {
      "name": "6410-group-project.ipynb",
      "provenance": [],
      "collapsed_sections": []
    },
    "kernelspec": {
      "name": "python3",
      "display_name": "Python 3"
    },
    "language_info": {
      "name": "python"
    }
  },
  "cells": [
    {
      "cell_type": "markdown",
      "metadata": {
        "id": "56hN9PEsonWJ"
      },
      "source": [
        "# **WOMEN'S CLOTHING E-COMMERCE**\n",
        "## GBA 6410 Summer 2021\n",
        "Group Member:\n",
        "1. Monica Feng Chen\n",
        "2. Nhi Tran\n",
        "3. Phoebe Tran"
      ]
    },
    {
      "cell_type": "markdown",
      "metadata": {
        "id": "H-xgOCI3_0jm"
      },
      "source": [
        "## Topic and Background\n",
        "\n",
        "This dataset is about Women's Clothing E-Commerce, the dataset shows the details about the reviews written by customers and the ratings on how customer graded the products and service. We use 2 algorithms in this project: Topic Modeling and Sentiment Analysis.\n",
        "Since there is a rating range in this dataset, we would like to analyze to understand what is the portion of each rating point, what made customer decide to rate that level and what is the most topics that customers mentioned, as well as to understand customer's opinions and emotions through the text reviews.  \n",
        "\n",
        "For Sentiment Analysis, we will learn about the contexts of text and identify and extract subjective information in source material, and help the business  to undertand the social sentiment of their brand, product and service while monitoring online conversations.\n",
        "\n",
        "We use Topic Modeling to discover the abstract \"topic\" that occur in customer's review, then we can organize and get some insights to understand the topics that were mentioned in this dataset and what is the trend that customers gave out in this data.\n",
        "\n",
        "Below are some of the questions we have before start learning this dataset:\n",
        "\n",
        "1. What is the age/rating distribution?\n",
        "2. What is the number of purchase by department/class?\n",
        "3. What is the most discussed topics in customer's reviews?\n",
        "4. What is the context of the review: positive, neutral or negative?\n",
        "5. Is it a negative or positive trend of customer reviews of this whole text data?\n",
        "6. etc...\n",
        "\n",
        "Then from the answers of those questions, business can monitor brand and product as well as service based on customer feedbacks and understand customer needs and what to improve on their products/service.\n",
        "\n"
      ]
    },
    {
      "cell_type": "markdown",
      "metadata": {
        "id": "9WxiM2TByF5Y"
      },
      "source": [
        "## Dataset\n",
        "- Women's E-Commerce Clothing Reviews ([Source](https://www.kaggle.com/nicapotato/womens-ecommerce-clothing-reviews))  \n",
        "\n",
        "This dataset includes 23486 rows and 10 feature variables. Each row corresponds to a customer review, and includes the variables:\n",
        "\n",
        "`Clothing ID`: Integer Categorical variable that refers to the specific piece being reviewed.  \n",
        "`Age`: Positive Integer variable of the reviewers age.  \n",
        "`Title`: String variable for the title of the review.  \n",
        "`Review Text`: String variable for the review body.  \n",
        "`Rating`: Positive Ordinal Integer variable for the product score granted by the customer from 1 Worst, to 5 Best.  \n",
        "`Recommended IND`: Binary variable stating where the customer recommends the product where 1 is recommended, 0 is not recommended.  \n",
        "`Positive Feedback Count`: Positive Integer documenting the number of other customers who found this review positive.  \n",
        "`Division Name`: Categorical name of the product high level division.  \n",
        "`Department Name`: Categorical name of the product department name.  \n",
        "`Class Name`: Categorical name of the product class name.  "
      ]
    },
    {
      "cell_type": "markdown",
      "metadata": {
        "id": "C9eAGjsaqrkd"
      },
      "source": [
        "## Data Preprocessing\n",
        "\n"
      ]
    },
    {
      "cell_type": "markdown",
      "metadata": {
        "id": "A-6hCEZ7zDds"
      },
      "source": [
        "#### 1. Importing the libraries"
      ]
    },
    {
      "cell_type": "code",
      "metadata": {
        "id": "F0jOdSmAovIz"
      },
      "source": [
        "import sys\n",
        "# !{sys.executable} -m spacy download en\n",
        "import re, numpy as np, pandas as pd\n",
        "from pprint import pprint"
      ],
      "execution_count": null,
      "outputs": []
    },
    {
      "cell_type": "code",
      "metadata": {
        "id": "c18PD102qaLm"
      },
      "source": [
        "# Gensim package\n",
        "import gensim, spacy, logging, warnings\n",
        "import gensim.corpora as corpora\n",
        "from gensim.utils import lemmatize, simple_preprocess\n",
        "from gensim.models import CoherenceModel\n",
        "import matplotlib.pyplot as plt\n",
        "% matplotlib inline\n",
        "import seaborn as sns"
      ],
      "execution_count": null,
      "outputs": []
    },
    {
      "cell_type": "code",
      "metadata": {
        "id": "JN3R3Pgr50bh",
        "colab": {
          "base_uri": "https://localhost:8080/"
        },
        "outputId": "c6a79663-be74-4fd4-c349-677de9c30c37"
      },
      "source": [
        "# Plotting tools\n",
        "!pip install pyLDAvis\n",
        "\n",
        "import pyLDAvis\n",
        "import pyLDAvis.gensim_models"
      ],
      "execution_count": null,
      "outputs": [
        {
          "output_type": "stream",
          "text": [
            "Requirement already satisfied: pyLDAvis in /usr/local/lib/python3.7/dist-packages (3.3.1)\n",
            "Requirement already satisfied: scipy in /usr/local/lib/python3.7/dist-packages (from pyLDAvis) (1.4.1)\n",
            "Requirement already satisfied: joblib in /usr/local/lib/python3.7/dist-packages (from pyLDAvis) (1.0.1)\n",
            "Requirement already satisfied: jinja2 in /usr/local/lib/python3.7/dist-packages (from pyLDAvis) (2.11.3)\n",
            "Requirement already satisfied: sklearn in /usr/local/lib/python3.7/dist-packages (from pyLDAvis) (0.0)\n",
            "Requirement already satisfied: scikit-learn in /usr/local/lib/python3.7/dist-packages (from pyLDAvis) (0.22.2.post1)\n",
            "Requirement already satisfied: numexpr in /usr/local/lib/python3.7/dist-packages (from pyLDAvis) (2.7.3)\n",
            "Requirement already satisfied: future in /usr/local/lib/python3.7/dist-packages (from pyLDAvis) (0.16.0)\n",
            "Requirement already satisfied: funcy in /usr/local/lib/python3.7/dist-packages (from pyLDAvis) (1.16)\n",
            "Requirement already satisfied: gensim in /usr/local/lib/python3.7/dist-packages (from pyLDAvis) (3.6.0)\n",
            "Requirement already satisfied: setuptools in /usr/local/lib/python3.7/dist-packages (from pyLDAvis) (57.2.0)\n",
            "Requirement already satisfied: pandas>=1.2.0 in /usr/local/lib/python3.7/dist-packages (from pyLDAvis) (1.3.1)\n",
            "Requirement already satisfied: numpy>=1.20.0 in /usr/local/lib/python3.7/dist-packages (from pyLDAvis) (1.21.1)\n",
            "Requirement already satisfied: python-dateutil>=2.7.3 in /usr/local/lib/python3.7/dist-packages (from pandas>=1.2.0->pyLDAvis) (2.8.1)\n",
            "Requirement already satisfied: pytz>=2017.3 in /usr/local/lib/python3.7/dist-packages (from pandas>=1.2.0->pyLDAvis) (2018.9)\n",
            "Requirement already satisfied: six>=1.5 in /usr/local/lib/python3.7/dist-packages (from python-dateutil>=2.7.3->pandas>=1.2.0->pyLDAvis) (1.15.0)\n",
            "Requirement already satisfied: smart-open>=1.2.1 in /usr/local/lib/python3.7/dist-packages (from gensim->pyLDAvis) (5.1.0)\n",
            "Requirement already satisfied: MarkupSafe>=0.23 in /usr/local/lib/python3.7/dist-packages (from jinja2->pyLDAvis) (2.0.1)\n"
          ],
          "name": "stdout"
        },
        {
          "output_type": "stream",
          "text": [
            "/usr/local/lib/python3.7/dist-packages/past/types/oldstr.py:5: DeprecationWarning: Using or importing the ABCs from 'collections' instead of from 'collections.abc' is deprecated since Python 3.3,and in 3.9 it will stop working\n",
            "  from collections import Iterable\n",
            "/usr/local/lib/python3.7/dist-packages/sklearn/linear_model/_least_angle.py:30: DeprecationWarning: `np.float` is a deprecated alias for the builtin `float`. To silence this warning, use `float` by itself. Doing this will not modify any behavior and is safe. If you specifically wanted the numpy scalar type, use `np.float64` here.\n",
            "Deprecated in NumPy 1.20; for more details and guidance: https://numpy.org/devdocs/release/1.20.0-notes.html#deprecations\n",
            "  method='lar', copy_X=True, eps=np.finfo(np.float).eps,\n",
            "/usr/local/lib/python3.7/dist-packages/sklearn/linear_model/_least_angle.py:169: DeprecationWarning: `np.float` is a deprecated alias for the builtin `float`. To silence this warning, use `float` by itself. Doing this will not modify any behavior and is safe. If you specifically wanted the numpy scalar type, use `np.float64` here.\n",
            "Deprecated in NumPy 1.20; for more details and guidance: https://numpy.org/devdocs/release/1.20.0-notes.html#deprecations\n",
            "  method='lar', copy_X=True, eps=np.finfo(np.float).eps,\n",
            "/usr/local/lib/python3.7/dist-packages/sklearn/linear_model/_least_angle.py:286: DeprecationWarning: `np.float` is a deprecated alias for the builtin `float`. To silence this warning, use `float` by itself. Doing this will not modify any behavior and is safe. If you specifically wanted the numpy scalar type, use `np.float64` here.\n",
            "Deprecated in NumPy 1.20; for more details and guidance: https://numpy.org/devdocs/release/1.20.0-notes.html#deprecations\n",
            "  eps=np.finfo(np.float).eps, copy_Gram=True, verbose=0,\n",
            "/usr/local/lib/python3.7/dist-packages/sklearn/linear_model/_least_angle.py:858: DeprecationWarning: `np.float` is a deprecated alias for the builtin `float`. To silence this warning, use `float` by itself. Doing this will not modify any behavior and is safe. If you specifically wanted the numpy scalar type, use `np.float64` here.\n",
            "Deprecated in NumPy 1.20; for more details and guidance: https://numpy.org/devdocs/release/1.20.0-notes.html#deprecations\n",
            "  eps=np.finfo(np.float).eps, copy_X=True, fit_path=True):\n",
            "/usr/local/lib/python3.7/dist-packages/sklearn/linear_model/_least_angle.py:1094: DeprecationWarning: `np.float` is a deprecated alias for the builtin `float`. To silence this warning, use `float` by itself. Doing this will not modify any behavior and is safe. If you specifically wanted the numpy scalar type, use `np.float64` here.\n",
            "Deprecated in NumPy 1.20; for more details and guidance: https://numpy.org/devdocs/release/1.20.0-notes.html#deprecations\n",
            "  eps=np.finfo(np.float).eps, copy_X=True, fit_path=True,\n",
            "/usr/local/lib/python3.7/dist-packages/sklearn/linear_model/_least_angle.py:1120: DeprecationWarning: `np.float` is a deprecated alias for the builtin `float`. To silence this warning, use `float` by itself. Doing this will not modify any behavior and is safe. If you specifically wanted the numpy scalar type, use `np.float64` here.\n",
            "Deprecated in NumPy 1.20; for more details and guidance: https://numpy.org/devdocs/release/1.20.0-notes.html#deprecations\n",
            "  eps=np.finfo(np.float).eps, positive=False):\n",
            "/usr/local/lib/python3.7/dist-packages/sklearn/linear_model/_least_angle.py:1349: DeprecationWarning: `np.float` is a deprecated alias for the builtin `float`. To silence this warning, use `float` by itself. Doing this will not modify any behavior and is safe. If you specifically wanted the numpy scalar type, use `np.float64` here.\n",
            "Deprecated in NumPy 1.20; for more details and guidance: https://numpy.org/devdocs/release/1.20.0-notes.html#deprecations\n",
            "  max_n_alphas=1000, n_jobs=None, eps=np.finfo(np.float).eps,\n",
            "/usr/local/lib/python3.7/dist-packages/sklearn/linear_model/_least_angle.py:1590: DeprecationWarning: `np.float` is a deprecated alias for the builtin `float`. To silence this warning, use `float` by itself. Doing this will not modify any behavior and is safe. If you specifically wanted the numpy scalar type, use `np.float64` here.\n",
            "Deprecated in NumPy 1.20; for more details and guidance: https://numpy.org/devdocs/release/1.20.0-notes.html#deprecations\n",
            "  max_n_alphas=1000, n_jobs=None, eps=np.finfo(np.float).eps,\n",
            "/usr/local/lib/python3.7/dist-packages/sklearn/linear_model/_least_angle.py:1723: DeprecationWarning: `np.float` is a deprecated alias for the builtin `float`. To silence this warning, use `float` by itself. Doing this will not modify any behavior and is safe. If you specifically wanted the numpy scalar type, use `np.float64` here.\n",
            "Deprecated in NumPy 1.20; for more details and guidance: https://numpy.org/devdocs/release/1.20.0-notes.html#deprecations\n",
            "  eps=np.finfo(np.float).eps, copy_X=True, positive=False):\n",
            "/usr/local/lib/python3.7/dist-packages/sklearn/decomposition/_lda.py:29: DeprecationWarning: `np.float` is a deprecated alias for the builtin `float`. To silence this warning, use `float` by itself. Doing this will not modify any behavior and is safe. If you specifically wanted the numpy scalar type, use `np.float64` here.\n",
            "Deprecated in NumPy 1.20; for more details and guidance: https://numpy.org/devdocs/release/1.20.0-notes.html#deprecations\n",
            "  EPS = np.finfo(np.float).eps\n"
          ],
          "name": "stderr"
        }
      ]
    },
    {
      "cell_type": "code",
      "metadata": {
        "colab": {
          "base_uri": "https://localhost:8080/"
        },
        "id": "NLmyVo1nqcpV",
        "outputId": "bd4dd5b4-2dfa-4051-f88c-458d27ba5f41"
      },
      "source": [
        "# Run in python console\n",
        "import nltk; nltk.download('stopwords')"
      ],
      "execution_count": null,
      "outputs": [
        {
          "output_type": "stream",
          "text": [
            "/usr/local/lib/python3.7/dist-packages/nltk/decorators.py:70: DeprecationWarning: `formatargspec` is deprecated since Python 3.5. Use `signature` and the `Signature` object directly\n",
            "  formatvalue=lambda value: \"\")[1:-1]\n",
            "/usr/local/lib/python3.7/dist-packages/sklearn/feature_extraction/image.py:167: DeprecationWarning: `np.int` is a deprecated alias for the builtin `int`. To silence this warning, use `int` by itself. Doing this will not modify any behavior and is safe. When replacing `np.int`, you may wish to use e.g. `np.int64` or `np.int32` to specify the precision. If you wish to review your current use, check the release note link for additional information.\n",
            "Deprecated in NumPy 1.20; for more details and guidance: https://numpy.org/devdocs/release/1.20.0-notes.html#deprecations\n",
            "  dtype=np.int):\n",
            "/usr/local/lib/python3.7/dist-packages/scipy/io/matlab/mio5.py:98: DeprecationWarning: `np.bool` is a deprecated alias for the builtin `bool`. To silence this warning, use `bool` by itself. Doing this will not modify any behavior and is safe. If you specifically wanted the numpy scalar type, use `np.bool_` here.\n",
            "Deprecated in NumPy 1.20; for more details and guidance: https://numpy.org/devdocs/release/1.20.0-notes.html#deprecations\n",
            "  from .mio5_utils import VarReader5\n"
          ],
          "name": "stderr"
        },
        {
          "output_type": "stream",
          "text": [
            "[nltk_data] Downloading package stopwords to /root/nltk_data...\n",
            "[nltk_data]   Package stopwords is already up-to-date!\n"
          ],
          "name": "stdout"
        },
        {
          "output_type": "execute_result",
          "data": {
            "text/plain": [
              "True"
            ]
          },
          "metadata": {
            "tags": []
          },
          "execution_count": 4
        }
      ]
    },
    {
      "cell_type": "code",
      "metadata": {
        "id": "WPjItbhiqgcB"
      },
      "source": [
        "# NLTK Stop words\n",
        "from nltk.corpus import stopwords\n",
        "stop_words = stopwords.words('english')"
      ],
      "execution_count": null,
      "outputs": []
    },
    {
      "cell_type": "code",
      "metadata": {
        "id": "4-Iowm_8qiYn"
      },
      "source": [
        "stop_words.extend(['from', 'subject', 're', 'edu', 'use', 'not', 'would', 'say', 'could', '_', 'be', 'know', 'good', 'go', 'get', 'do', 'done', 'many', 'some', 'thank', 'think', 'see', 'rather', 'easy', 'lot', 'lack', 'make', 'want', 'seem', 'run', 'need', 'even', 'right', 'line', 'even', 'also', 'may', 'take', 'come'])"
      ],
      "execution_count": null,
      "outputs": []
    },
    {
      "cell_type": "code",
      "metadata": {
        "id": "XfeXYWc9qnF5"
      },
      "source": [
        "warnings.filterwarnings(\"ignore\",category=DeprecationWarning)\n",
        "logging.basicConfig(format='%(asctime)s : %(levelname)s : %(message)s', level=logging.ERROR)"
      ],
      "execution_count": null,
      "outputs": []
    },
    {
      "cell_type": "markdown",
      "metadata": {
        "id": "pUZUSlRlq6S5"
      },
      "source": [
        "#### 2. Loading the dataset"
      ]
    },
    {
      "cell_type": "markdown",
      "metadata": {
        "id": "eUXbmSJ927Y1"
      },
      "source": [
        "After importing all necessary libraries, we import dataset, check the shape and print the first 10 rows with header. Next is to remove the Unnamed column, delete rows with missing value and remove duplicates.\n"
      ]
    },
    {
      "cell_type": "code",
      "metadata": {
        "colab": {
          "base_uri": "https://localhost:8080/",
          "height": 1000
        },
        "id": "k4EJftB2qpMF",
        "outputId": "33d8d862-138a-4008-80f5-f68473d61837"
      },
      "source": [
        "df = pd.read_csv('Womens Clothing E-Commerce Reviews.csv')\n",
        "print(df.shape)\n",
        "df.head(10)"
      ],
      "execution_count": null,
      "outputs": [
        {
          "output_type": "stream",
          "text": [
            "(23486, 11)\n"
          ],
          "name": "stdout"
        },
        {
          "output_type": "execute_result",
          "data": {
            "text/html": [
              "<div>\n",
              "<style scoped>\n",
              "    .dataframe tbody tr th:only-of-type {\n",
              "        vertical-align: middle;\n",
              "    }\n",
              "\n",
              "    .dataframe tbody tr th {\n",
              "        vertical-align: top;\n",
              "    }\n",
              "\n",
              "    .dataframe thead th {\n",
              "        text-align: right;\n",
              "    }\n",
              "</style>\n",
              "<table border=\"1\" class=\"dataframe\">\n",
              "  <thead>\n",
              "    <tr style=\"text-align: right;\">\n",
              "      <th></th>\n",
              "      <th>Unnamed: 0</th>\n",
              "      <th>Clothing ID</th>\n",
              "      <th>Age</th>\n",
              "      <th>Title</th>\n",
              "      <th>Review Text</th>\n",
              "      <th>Rating</th>\n",
              "      <th>Recommended IND</th>\n",
              "      <th>Positive Feedback Count</th>\n",
              "      <th>Division Name</th>\n",
              "      <th>Department Name</th>\n",
              "      <th>Class Name</th>\n",
              "    </tr>\n",
              "  </thead>\n",
              "  <tbody>\n",
              "    <tr>\n",
              "      <th>0</th>\n",
              "      <td>0</td>\n",
              "      <td>767</td>\n",
              "      <td>33</td>\n",
              "      <td>NaN</td>\n",
              "      <td>Absolutely wonderful - silky and sexy and comf...</td>\n",
              "      <td>4</td>\n",
              "      <td>1</td>\n",
              "      <td>0</td>\n",
              "      <td>Initmates</td>\n",
              "      <td>Intimate</td>\n",
              "      <td>Intimates</td>\n",
              "    </tr>\n",
              "    <tr>\n",
              "      <th>1</th>\n",
              "      <td>1</td>\n",
              "      <td>1080</td>\n",
              "      <td>34</td>\n",
              "      <td>NaN</td>\n",
              "      <td>Love this dress!  it's sooo pretty.  i happene...</td>\n",
              "      <td>5</td>\n",
              "      <td>1</td>\n",
              "      <td>4</td>\n",
              "      <td>General</td>\n",
              "      <td>Dresses</td>\n",
              "      <td>Dresses</td>\n",
              "    </tr>\n",
              "    <tr>\n",
              "      <th>2</th>\n",
              "      <td>2</td>\n",
              "      <td>1077</td>\n",
              "      <td>60</td>\n",
              "      <td>Some major design flaws</td>\n",
              "      <td>I had such high hopes for this dress and reall...</td>\n",
              "      <td>3</td>\n",
              "      <td>0</td>\n",
              "      <td>0</td>\n",
              "      <td>General</td>\n",
              "      <td>Dresses</td>\n",
              "      <td>Dresses</td>\n",
              "    </tr>\n",
              "    <tr>\n",
              "      <th>3</th>\n",
              "      <td>3</td>\n",
              "      <td>1049</td>\n",
              "      <td>50</td>\n",
              "      <td>My favorite buy!</td>\n",
              "      <td>I love, love, love this jumpsuit. it's fun, fl...</td>\n",
              "      <td>5</td>\n",
              "      <td>1</td>\n",
              "      <td>0</td>\n",
              "      <td>General Petite</td>\n",
              "      <td>Bottoms</td>\n",
              "      <td>Pants</td>\n",
              "    </tr>\n",
              "    <tr>\n",
              "      <th>4</th>\n",
              "      <td>4</td>\n",
              "      <td>847</td>\n",
              "      <td>47</td>\n",
              "      <td>Flattering shirt</td>\n",
              "      <td>This shirt is very flattering to all due to th...</td>\n",
              "      <td>5</td>\n",
              "      <td>1</td>\n",
              "      <td>6</td>\n",
              "      <td>General</td>\n",
              "      <td>Tops</td>\n",
              "      <td>Blouses</td>\n",
              "    </tr>\n",
              "    <tr>\n",
              "      <th>5</th>\n",
              "      <td>5</td>\n",
              "      <td>1080</td>\n",
              "      <td>49</td>\n",
              "      <td>Not for the very petite</td>\n",
              "      <td>I love tracy reese dresses, but this one is no...</td>\n",
              "      <td>2</td>\n",
              "      <td>0</td>\n",
              "      <td>4</td>\n",
              "      <td>General</td>\n",
              "      <td>Dresses</td>\n",
              "      <td>Dresses</td>\n",
              "    </tr>\n",
              "    <tr>\n",
              "      <th>6</th>\n",
              "      <td>6</td>\n",
              "      <td>858</td>\n",
              "      <td>39</td>\n",
              "      <td>Cagrcoal shimmer fun</td>\n",
              "      <td>I aded this in my basket at hte last mintue to...</td>\n",
              "      <td>5</td>\n",
              "      <td>1</td>\n",
              "      <td>1</td>\n",
              "      <td>General Petite</td>\n",
              "      <td>Tops</td>\n",
              "      <td>Knits</td>\n",
              "    </tr>\n",
              "    <tr>\n",
              "      <th>7</th>\n",
              "      <td>7</td>\n",
              "      <td>858</td>\n",
              "      <td>39</td>\n",
              "      <td>Shimmer, surprisingly goes with lots</td>\n",
              "      <td>I ordered this in carbon for store pick up, an...</td>\n",
              "      <td>4</td>\n",
              "      <td>1</td>\n",
              "      <td>4</td>\n",
              "      <td>General Petite</td>\n",
              "      <td>Tops</td>\n",
              "      <td>Knits</td>\n",
              "    </tr>\n",
              "    <tr>\n",
              "      <th>8</th>\n",
              "      <td>8</td>\n",
              "      <td>1077</td>\n",
              "      <td>24</td>\n",
              "      <td>Flattering</td>\n",
              "      <td>I love this dress. i usually get an xs but it ...</td>\n",
              "      <td>5</td>\n",
              "      <td>1</td>\n",
              "      <td>0</td>\n",
              "      <td>General</td>\n",
              "      <td>Dresses</td>\n",
              "      <td>Dresses</td>\n",
              "    </tr>\n",
              "    <tr>\n",
              "      <th>9</th>\n",
              "      <td>9</td>\n",
              "      <td>1077</td>\n",
              "      <td>34</td>\n",
              "      <td>Such a fun dress!</td>\n",
              "      <td>I'm 5\"5' and 125 lbs. i ordered the s petite t...</td>\n",
              "      <td>5</td>\n",
              "      <td>1</td>\n",
              "      <td>0</td>\n",
              "      <td>General</td>\n",
              "      <td>Dresses</td>\n",
              "      <td>Dresses</td>\n",
              "    </tr>\n",
              "  </tbody>\n",
              "</table>\n",
              "</div>"
            ],
            "text/plain": [
              "   Unnamed: 0  Clothing ID  Age  ...   Division Name Department Name  Class Name\n",
              "0           0          767   33  ...       Initmates        Intimate   Intimates\n",
              "1           1         1080   34  ...         General         Dresses     Dresses\n",
              "2           2         1077   60  ...         General         Dresses     Dresses\n",
              "3           3         1049   50  ...  General Petite         Bottoms       Pants\n",
              "4           4          847   47  ...         General            Tops     Blouses\n",
              "5           5         1080   49  ...         General         Dresses     Dresses\n",
              "6           6          858   39  ...  General Petite            Tops       Knits\n",
              "7           7          858   39  ...  General Petite            Tops       Knits\n",
              "8           8         1077   24  ...         General         Dresses     Dresses\n",
              "9           9         1077   34  ...         General         Dresses     Dresses\n",
              "\n",
              "[10 rows x 11 columns]"
            ]
          },
          "metadata": {
            "tags": []
          },
          "execution_count": 8
        }
      ]
    },
    {
      "cell_type": "code",
      "metadata": {
        "id": "2HKKr4k9rMvG"
      },
      "source": [
        "# Drop column 'Unnamed: 0'\n",
        "df.drop('Unnamed: 0',axis=1, inplace=True)"
      ],
      "execution_count": null,
      "outputs": []
    },
    {
      "cell_type": "code",
      "metadata": {
        "id": "h26DUycAsuYy",
        "colab": {
          "base_uri": "https://localhost:8080/"
        },
        "outputId": "c5415bdf-342f-4613-d32f-ed7e7077f69d"
      },
      "source": [
        "# Check missing values\n",
        "df.isnull().sum()"
      ],
      "execution_count": null,
      "outputs": [
        {
          "output_type": "execute_result",
          "data": {
            "text/plain": [
              "Clothing ID                   0\n",
              "Age                           0\n",
              "Title                      3810\n",
              "Review Text                 845\n",
              "Rating                        0\n",
              "Recommended IND               0\n",
              "Positive Feedback Count       0\n",
              "Division Name                14\n",
              "Department Name              14\n",
              "Class Name                   14\n",
              "dtype: int64"
            ]
          },
          "metadata": {
            "tags": []
          },
          "execution_count": 10
        }
      ]
    },
    {
      "cell_type": "code",
      "metadata": {
        "id": "Y4K_yXUutxh7",
        "colab": {
          "base_uri": "https://localhost:8080/"
        },
        "outputId": "04f544e8-325e-4c94-a5c6-4ecf22da2d01"
      },
      "source": [
        "# Remove rows with missing values\n",
        "df.dropna(axis=0, inplace=True)\n",
        "df.isnull().sum()"
      ],
      "execution_count": null,
      "outputs": [
        {
          "output_type": "execute_result",
          "data": {
            "text/plain": [
              "Clothing ID                0\n",
              "Age                        0\n",
              "Title                      0\n",
              "Review Text                0\n",
              "Rating                     0\n",
              "Recommended IND            0\n",
              "Positive Feedback Count    0\n",
              "Division Name              0\n",
              "Department Name            0\n",
              "Class Name                 0\n",
              "dtype: int64"
            ]
          },
          "metadata": {
            "tags": []
          },
          "execution_count": 11
        }
      ]
    },
    {
      "cell_type": "code",
      "metadata": {
        "id": "Mafo96UkuR1N",
        "colab": {
          "base_uri": "https://localhost:8080/"
        },
        "outputId": "72f82956-22de-440d-afe2-dc5c72e51d4a"
      },
      "source": [
        "# Check shape before removing duplicates\n",
        "df.shape"
      ],
      "execution_count": null,
      "outputs": [
        {
          "output_type": "execute_result",
          "data": {
            "text/plain": [
              "(19662, 10)"
            ]
          },
          "metadata": {
            "tags": []
          },
          "execution_count": 12
        }
      ]
    },
    {
      "cell_type": "code",
      "metadata": {
        "id": "DlKfuOrpuVNW",
        "colab": {
          "base_uri": "https://localhost:8080/"
        },
        "outputId": "b2ef0d0c-749f-4a7b-b0b0-2b6edc929566"
      },
      "source": [
        "# Remove duplicates\n",
        "df.drop_duplicates(inplace = True)\n",
        "df.shape"
      ],
      "execution_count": null,
      "outputs": [
        {
          "output_type": "execute_result",
          "data": {
            "text/plain": [
              "(19662, 10)"
            ]
          },
          "metadata": {
            "tags": []
          },
          "execution_count": 13
        }
      ]
    },
    {
      "cell_type": "code",
      "metadata": {
        "id": "9mseeFbpNFIE"
      },
      "source": [
        "df.to_excel('Womens Clothing E-Commerce Reviews-Clean.xlsx')"
      ],
      "execution_count": null,
      "outputs": []
    },
    {
      "cell_type": "markdown",
      "metadata": {
        "id": "d3kk4mXcwRf9"
      },
      "source": [
        "#### 3. Tokenize Sentenses and Clean"
      ]
    },
    {
      "cell_type": "markdown",
      "metadata": {
        "id": "NZrP08Jo3kxQ"
      },
      "source": [
        "Removing the emails, new line characters, single quotes and then split the sentence into a list of words using gensim \"simple_preprocess\". Set deacc=True to remove punctuations.\n",
        "\n",
        "The \"simple_preprocess\" funtion returns a list of tokens after tokenizing and normalizing them. This function helps to have more effective preprocessing of the corpus."
      ]
    },
    {
      "cell_type": "code",
      "metadata": {
        "id": "66DitwxNvZdM"
      },
      "source": [
        "def sent_to_words(sentences):\n",
        "    for sent in sentences:\n",
        "        sent = re.sub('\\S*@\\S*\\s?', '', sent)  # remove emails\n",
        "        sent = re.sub('\\s+', ' ', sent)  # remove newline characters\n",
        "        sent = re.sub(\"\\'\", \"\", sent)  # remove single quotes\n",
        "        sent = gensim.utils.simple_preprocess(str(sent), deacc=True) \n",
        "        yield(sent) "
      ],
      "execution_count": null,
      "outputs": []
    },
    {
      "cell_type": "code",
      "metadata": {
        "colab": {
          "base_uri": "https://localhost:8080/"
        },
        "id": "vrAAMtj3veMS",
        "outputId": "4bb00174-f36b-4f23-a0ca-69ba32807134"
      },
      "source": [
        "# Convert to list\n",
        "data = df['Review Text'].values.tolist()\n",
        "data_words = list(sent_to_words(data))\n",
        "print(data_words[:1])"
      ],
      "execution_count": null,
      "outputs": [
        {
          "output_type": "stream",
          "text": [
            "[['had', 'such', 'high', 'hopes', 'for', 'this', 'dress', 'and', 'really', 'wanted', 'it', 'to', 'work', 'for', 'me', 'initially', 'ordered', 'the', 'petite', 'small', 'my', 'usual', 'size', 'but', 'found', 'this', 'to', 'be', 'outrageously', 'small', 'so', 'small', 'in', 'fact', 'that', 'could', 'not', 'zip', 'it', 'up', 'reordered', 'it', 'in', 'petite', 'medium', 'which', 'was', 'just', 'ok', 'overall', 'the', 'top', 'half', 'was', 'comfortable', 'and', 'fit', 'nicely', 'but', 'the', 'bottom', 'half', 'had', 'very', 'tight', 'under', 'layer', 'and', 'several', 'somewhat', 'cheap', 'net', 'over', 'layers', 'imo', 'major', 'design', 'flaw', 'was', 'the', 'net', 'over', 'layer', 'sewn', 'directly', 'into', 'the', 'zipper', 'it']]\n"
          ],
          "name": "stdout"
        }
      ]
    },
    {
      "cell_type": "markdown",
      "metadata": {
        "id": "FBo9yisfwbDk"
      },
      "source": [
        "#### 4. Build the Bigram, Trigram Models and Lemmatize"
      ]
    },
    {
      "cell_type": "markdown",
      "metadata": {
        "id": "sSVJGurn4TYH"
      },
      "source": [
        "Removing the stop words and forming the bigram and trigram using the \"phrases\" model. We create bigram and trigram because some words have no meaning if standing alone, bigram and trigram will create more meaningful words."
      ]
    },
    {
      "cell_type": "markdown",
      "metadata": {
        "id": "k8G71V2m5C4Z"
      },
      "source": [
        "Lemmatize each word to its root form, and keep only Noun, Adjective, Verbs and Adverbs. We use spacy for lemmatization and keep POS tags because they are the onces contributing the most to the meaning of sentences. Then we create the dictionary and corpus."
      ]
    },
    {
      "cell_type": "code",
      "metadata": {
        "colab": {
          "base_uri": "https://localhost:8080/"
        },
        "id": "d1TrmPzPwkgl",
        "outputId": "e1e3fc6e-0f45-464f-a414-9f716569625e"
      },
      "source": [
        "# Build the bigram and trigram models\n",
        "bigram = gensim.models.Phrases(data_words, min_count=5, threshold=100) # higher threshold fewer phrases.\n",
        "trigram = gensim.models.Phrases(bigram[data_words], threshold=100)  \n",
        "bigram_mod = gensim.models.phrases.Phraser(bigram)\n",
        "trigram_mod = gensim.models.phrases.Phraser(trigram)\n",
        "print(trigram_mod[bigram_mod[data_words[0]]])"
      ],
      "execution_count": null,
      "outputs": [
        {
          "output_type": "stream",
          "text": [
            "/usr/local/lib/python3.7/dist-packages/gensim/models/phrases.py:598: UserWarning: For a faster implementation, use the gensim.models.phrases.Phraser class\n",
            "  warnings.warn(\"For a faster implementation, use the gensim.models.phrases.Phraser class\")\n"
          ],
          "name": "stderr"
        },
        {
          "output_type": "stream",
          "text": [
            "['had', 'such', 'high_hopes', 'for', 'this', 'dress', 'and', 'really', 'wanted', 'it', 'to', 'work', 'for', 'me', 'initially', 'ordered', 'the', 'petite', 'small', 'my', 'usual', 'size', 'but', 'found', 'this', 'to', 'be', 'outrageously', 'small', 'so', 'small', 'in', 'fact', 'that', 'could', 'not', 'zip', 'it', 'up', 'reordered', 'it', 'in', 'petite', 'medium', 'which', 'was', 'just', 'ok', 'overall', 'the', 'top', 'half', 'was', 'comfortable', 'and', 'fit', 'nicely', 'but', 'the', 'bottom', 'half', 'had', 'very', 'tight', 'under', 'layer', 'and', 'several', 'somewhat', 'cheap', 'net', 'over', 'layers', 'imo', 'major', 'design', 'flaw', 'was', 'the', 'net', 'over', 'layer', 'sewn', 'directly', 'into', 'the', 'zipper', 'it']\n"
          ],
          "name": "stdout"
        }
      ]
    },
    {
      "cell_type": "code",
      "metadata": {
        "id": "L2is10gf329S"
      },
      "source": [
        "# Define functions for stopwords, bigrams, trigrams and lemmatization\n",
        "def remove_stopwords(texts):\n",
        "    return [[word for word in simple_preprocess(str(doc)) if word not in stop_words] for doc in texts]\n",
        "\n",
        "def make_bigrams(texts):\n",
        "    return [bigram_mod[doc] for doc in texts]\n",
        "\n",
        "def make_trigrams(texts):\n",
        "    return [trigram_mod[bigram_mod[doc]] for doc in texts]\n",
        "\n",
        "def lemmatization(texts, allowed_postags=['NOUN', 'ADJ', 'VERB', 'ADV']):\n",
        "    \"\"\"https://spacy.io/api/annotation\"\"\"\n",
        "    texts_out = []\n",
        "    for sent in texts:\n",
        "        doc = nlp(\" \".join(sent)) \n",
        "        texts_out.append([token.lemma_ for token in doc if token.pos_ in allowed_postags])\n",
        "    return texts_out\n"
      ],
      "execution_count": null,
      "outputs": []
    },
    {
      "cell_type": "code",
      "metadata": {
        "colab": {
          "base_uri": "https://localhost:8080/"
        },
        "id": "OsUZ0jJN4QPV",
        "outputId": "fb142d88-b91e-4254-eec4-f253080a6872"
      },
      "source": [
        "# Remove Stop Words\n",
        "data_words_nostops = remove_stopwords(data_words)\n",
        "\n",
        "# Form Bigrams\n",
        "data_words_bigrams = make_bigrams(data_words_nostops)\n",
        "\n",
        "# Initialize spacy 'en' model, keeping only tagger component (for efficiency)\n",
        "# python3 -m spacy download en\n",
        "nlp = spacy.load('en', disable=['parser', 'ner'])\n",
        "\n",
        "# Do lemmatization keeping only noun, adj, vb, adv\n",
        "data_lemmatized = lemmatization(data_words_bigrams, allowed_postags=['NOUN', 'ADJ', 'VERB', 'ADV'])\n",
        "\n",
        "print(data_lemmatized[:1])"
      ],
      "execution_count": null,
      "outputs": [
        {
          "output_type": "stream",
          "text": [
            "[['really', 'want', 'work', 'initially', 'order', 'petite', 'small', 'usual', 'size', 'find', 'outrageously', 'small', 'small', 'fact', 'zip', 'reorder', 'petite', 'medium', 'overall', 'top', 'half', 'comfortable', 'fit', 'nicely', 'bottom', 'half', 'tight', 'layer', 'several', 'somewhat', 'cheap', 'net', 'layer', 'major', 'design', 'flaw', 'net', 'layer', 'sew', 'directly']]\n"
          ],
          "name": "stdout"
        }
      ]
    },
    {
      "cell_type": "code",
      "metadata": {
        "colab": {
          "base_uri": "https://localhost:8080/"
        },
        "id": "jO2BRq4b4Toi",
        "outputId": "94905bdb-d634-43a2-ede0-3e177db61ed3"
      },
      "source": [
        "# Create Dictionary\n",
        "id2word = corpora.Dictionary(data_lemmatized)\n",
        "\n",
        "# Create Corpus\n",
        "texts = data_lemmatized\n",
        "\n",
        "# Term Document Frequency\n",
        "corpus = [id2word.doc2bow(text) for text in texts]\n",
        "\n",
        "# View\n",
        "print(corpus[:1])"
      ],
      "execution_count": null,
      "outputs": [
        {
          "output_type": "stream",
          "text": [
            "[[(0, 1), (1, 1), (2, 1), (3, 1), (4, 1), (5, 1), (6, 1), (7, 1), (8, 1), (9, 2), (10, 1), (11, 3), (12, 1), (13, 1), (14, 2), (15, 1), (16, 1), (17, 1), (18, 1), (19, 2), (20, 1), (21, 1), (22, 1), (23, 1), (24, 1), (25, 3), (26, 1), (27, 1), (28, 1), (29, 1), (30, 1), (31, 1), (32, 1)]]\n"
          ],
          "name": "stdout"
        }
      ]
    },
    {
      "cell_type": "markdown",
      "metadata": {
        "id": "g_iIa8wQ1AqE"
      },
      "source": [
        "## Data Visualization & Descriptive Statistics "
      ]
    },
    {
      "cell_type": "code",
      "metadata": {
        "colab": {
          "base_uri": "https://localhost:8080/",
          "height": 404
        },
        "id": "LNeTsb7U1kgi",
        "outputId": "360166bd-e5b1-4001-c9aa-c74136889ad8"
      },
      "source": [
        "# Age Distribution\n",
        "plt.figure(figsize=(8,6))\n",
        "sns.histplot(df['Age'], bins = 30)\n",
        "plt.title('Age Distribution')\n",
        "plt.show();"
      ],
      "execution_count": null,
      "outputs": [
        {
          "output_type": "display_data",
          "data": {
            "image/png": "[encoded data removed]",
            "text/plain": [
              "<Figure size 576x432 with 1 Axes>"
            ]
          },
          "metadata": {
            "tags": [],
            "needs_background": "light"
          }
        }
      ]
    },
    {
      "cell_type": "markdown",
      "metadata": {
        "id": "34r7q79_xYcI"
      },
      "source": [
        "This graph shows us that majority of the customers who provided a review are in their late 30s and early 40s. "
      ]
    },
    {
      "cell_type": "code",
      "metadata": {
        "colab": {
          "base_uri": "https://localhost:8080/",
          "height": 350
        },
        "id": "H5YV-S7K2F54",
        "outputId": "f8a1c067-6f0d-42a0-fb02-8ed3616e6f40"
      },
      "source": [
        "# Ratings distribution\n",
        "plt.figure(figsize=(5,5))\n",
        "sns.histplot(df['Rating'])\n",
        "plt.title('Ratings Distribution')\n",
        "plt.show();"
      ],
      "execution_count": null,
      "outputs": [
        {
          "output_type": "display_data",
          "data": {
            "image/png": "[encoded data removed]",
            "text/plain": [
              "<Figure size 360x360 with 1 Axes>"
            ]
          },
          "metadata": {
            "tags": [],
            "needs_background": "light"
          }
        }
      ]
    },
    {
      "cell_type": "markdown",
      "metadata": {
        "id": "ZJJsi1zaxx5k"
      },
      "source": [
        "The Rating Distribution graph shows us that majority of the reviews are higher than 3, with the most rating is 5."
      ]
    },
    {
      "cell_type": "code",
      "metadata": {
        "colab": {
          "base_uri": "https://localhost:8080/",
          "height": 297
        },
        "id": "EwLG9ShD3xEV",
        "outputId": "a17576f7-f745-4214-89c9-ea04cc2bf56c"
      },
      "source": [
        "# Descriptive statistics\n",
        "df[['Age', 'Rating']].describe()"
      ],
      "execution_count": null,
      "outputs": [
        {
          "output_type": "execute_result",
          "data": {
            "text/html": [
              "<div>\n",
              "<style scoped>\n",
              "    .dataframe tbody tr th:only-of-type {\n",
              "        vertical-align: middle;\n",
              "    }\n",
              "\n",
              "    .dataframe tbody tr th {\n",
              "        vertical-align: top;\n",
              "    }\n",
              "\n",
              "    .dataframe thead th {\n",
              "        text-align: right;\n",
              "    }\n",
              "</style>\n",
              "<table border=\"1\" class=\"dataframe\">\n",
              "  <thead>\n",
              "    <tr style=\"text-align: right;\">\n",
              "      <th></th>\n",
              "      <th>Age</th>\n",
              "      <th>Rating</th>\n",
              "    </tr>\n",
              "  </thead>\n",
              "  <tbody>\n",
              "    <tr>\n",
              "      <th>count</th>\n",
              "      <td>19662.000000</td>\n",
              "      <td>19662.000000</td>\n",
              "    </tr>\n",
              "    <tr>\n",
              "      <th>mean</th>\n",
              "      <td>43.260808</td>\n",
              "      <td>4.183145</td>\n",
              "    </tr>\n",
              "    <tr>\n",
              "      <th>std</th>\n",
              "      <td>12.258122</td>\n",
              "      <td>1.112224</td>\n",
              "    </tr>\n",
              "    <tr>\n",
              "      <th>min</th>\n",
              "      <td>18.000000</td>\n",
              "      <td>1.000000</td>\n",
              "    </tr>\n",
              "    <tr>\n",
              "      <th>25%</th>\n",
              "      <td>34.000000</td>\n",
              "      <td>4.000000</td>\n",
              "    </tr>\n",
              "    <tr>\n",
              "      <th>50%</th>\n",
              "      <td>41.000000</td>\n",
              "      <td>5.000000</td>\n",
              "    </tr>\n",
              "    <tr>\n",
              "      <th>75%</th>\n",
              "      <td>52.000000</td>\n",
              "      <td>5.000000</td>\n",
              "    </tr>\n",
              "    <tr>\n",
              "      <th>max</th>\n",
              "      <td>99.000000</td>\n",
              "      <td>5.000000</td>\n",
              "    </tr>\n",
              "  </tbody>\n",
              "</table>\n",
              "</div>"
            ],
            "text/plain": [
              "                Age        Rating\n",
              "count  19662.000000  19662.000000\n",
              "mean      43.260808      4.183145\n",
              "std       12.258122      1.112224\n",
              "min       18.000000      1.000000\n",
              "25%       34.000000      4.000000\n",
              "50%       41.000000      5.000000\n",
              "75%       52.000000      5.000000\n",
              "max       99.000000      5.000000"
            ]
          },
          "metadata": {
            "tags": []
          },
          "execution_count": 32
        }
      ]
    },
    {
      "cell_type": "markdown",
      "metadata": {
        "id": "7v5433-jyE3Y"
      },
      "source": [
        "This table above shows us that the average age of our customers is 43 and the average rating is above 4."
      ]
    },
    {
      "cell_type": "code",
      "metadata": {
        "colab": {
          "base_uri": "https://localhost:8080/",
          "height": 458
        },
        "id": "kUdErRxY7PBX",
        "outputId": "310569e6-9401-403c-d8fc-e185f441e901"
      },
      "source": [
        "# Ratings vs. Age\n",
        "plt.figure(figsize=(8,6))\n",
        "sns.boxplot('Rating', 'Age', data = df)\n",
        "plt.title('Rating by Age')\n",
        "plt.show();"
      ],
      "execution_count": null,
      "outputs": [
        {
          "output_type": "stream",
          "text": [
            "/usr/local/lib/python3.7/dist-packages/seaborn/_decorators.py:43: FutureWarning: Pass the following variables as keyword args: x, y. From version 0.12, the only valid positional argument will be `data`, and passing other arguments without an explicit keyword will result in an error or misinterpretation.\n",
            "  FutureWarning\n"
          ],
          "name": "stderr"
        },
        {
          "output_type": "display_data",
          "data": {
            "image/png": "[encoded data removed]",
            "text/plain": [
              "<Figure size 576x432 with 1 Axes>"
            ]
          },
          "metadata": {
            "tags": [],
            "needs_background": "light"
          }
        }
      ]
    },
    {
      "cell_type": "markdown",
      "metadata": {
        "id": "3yuF3gB_yZ87"
      },
      "source": [
        "This graph shows us that there is no correlation between age and ratings."
      ]
    },
    {
      "cell_type": "code",
      "metadata": {
        "colab": {
          "base_uri": "https://localhost:8080/",
          "height": 350
        },
        "id": "KijPRnjc6GG4",
        "outputId": "7679d495-c708-4ab1-e92a-ac3ee0c0ff44"
      },
      "source": [
        "# Number of purchases by department\n",
        "plt.figure(figsize=(8,5))\n",
        "sns.histplot(df['Department Name'])\n",
        "plt.title('Number of reviews by department')\n",
        "plt.show();"
      ],
      "execution_count": null,
      "outputs": [
        {
          "output_type": "display_data",
          "data": {
            "image/png": "[encoded data removed]",
            "text/plain": [
              "<Figure size 576x360 with 1 Axes>"
            ]
          },
          "metadata": {
            "tags": [],
            "needs_background": "light"
          }
        }
      ]
    },
    {
      "cell_type": "markdown",
      "metadata": {
        "id": "pEHD-ernyw2p"
      },
      "source": [
        "The Number of Reviews by Department graph shows us that most of the reviews are for Tops and Dresses."
      ]
    },
    {
      "cell_type": "markdown",
      "metadata": {
        "id": "TQSiPcOCzP_k"
      },
      "source": [
        "## Data Analysis\n",
        "- Sentiment Analysis\n",
        "- Topic Modeling"
      ]
    },
    {
      "cell_type": "markdown",
      "metadata": {
        "id": "lECF0h3Uq76v"
      },
      "source": [
        "### Sentiment Analysis"
      ]
    },
    {
      "cell_type": "markdown",
      "metadata": {
        "id": "SuUWxqxeLxFf"
      },
      "source": [
        "The sentiment analysis using TextBlob returns 2 properties: subjectivity and polarity. \n",
        "\n",
        "Polarity is float which lies in the range of [-1,1] where 1 means positive statmement and -1 mean a negative statement.\n",
        "\n",
        "Subjective sentences generally refer to personal opinion, emotion of judment. It is also a float which lies in the range of [0,1].\n",
        "\n"
      ]
    },
    {
      "cell_type": "code",
      "metadata": {
        "id": "4KRmYjHhqxVc"
      },
      "source": [
        "from textblob import TextBlob"
      ],
      "execution_count": null,
      "outputs": []
    },
    {
      "cell_type": "code",
      "metadata": {
        "id": "rqZBJ1Tbq4k5"
      },
      "source": [
        "def sentiment_analysis(text):\n",
        "  \n",
        "  # function for subjectitivty\n",
        "  def getSubjectivity(text):\n",
        "    return TextBlob(text).sentiment.subjectivity\n",
        "\n",
        "  # function to get polarity\n",
        "  def getPolarity(text):\n",
        "    return TextBlob(text).sentiment.polarity\n",
        "\n",
        "  # create two new columns 'Subjectivity' & 'Polarity'\n",
        "  df['TextBlob_Subjectivity'] = df['Review Text'].apply(getSubjectivity)\n",
        "  df['TextBlob_Polarity'] = df['Review Text'].apply(getPolarity)\n",
        "\n",
        "  # transform scores to text-based sentiment labels\n",
        "  def getAnalysis(score):\n",
        "    if score < 0:\n",
        "      return 'Negative'\n",
        "    elif score == 0:\n",
        "      return 'Neutral'\n",
        "    else:\n",
        "      return 'Positive'\n",
        "  \n",
        "  df['TextBlob_Analysis'] = df['TextBlob_Polarity'].apply(getAnalysis)\n",
        "\n",
        "  return df"
      ],
      "execution_count": null,
      "outputs": []
    },
    {
      "cell_type": "code",
      "metadata": {
        "colab": {
          "base_uri": "https://localhost:8080/",
          "height": 1000
        },
        "id": "eZU8PG01sf6L",
        "outputId": "4cfb203a-87ab-42e8-9f49-28b35a105744"
      },
      "source": [
        "sentiment_analysis(df)"
      ],
      "execution_count": null,
      "outputs": [
        {
          "output_type": "execute_result",
          "data": {
            "text/html": [
              "<div>\n",
              "<style scoped>\n",
              "    .dataframe tbody tr th:only-of-type {\n",
              "        vertical-align: middle;\n",
              "    }\n",
              "\n",
              "    .dataframe tbody tr th {\n",
              "        vertical-align: top;\n",
              "    }\n",
              "\n",
              "    .dataframe thead th {\n",
              "        text-align: right;\n",
              "    }\n",
              "</style>\n",
              "<table border=\"1\" class=\"dataframe\">\n",
              "  <thead>\n",
              "    <tr style=\"text-align: right;\">\n",
              "      <th></th>\n",
              "      <th>Clothing ID</th>\n",
              "      <th>Age</th>\n",
              "      <th>Title</th>\n",
              "      <th>Review Text</th>\n",
              "      <th>Rating</th>\n",
              "      <th>Recommended IND</th>\n",
              "      <th>Positive Feedback Count</th>\n",
              "      <th>Division Name</th>\n",
              "      <th>Department Name</th>\n",
              "      <th>Class Name</th>\n",
              "      <th>TextBlob_Subjectivity</th>\n",
              "      <th>TextBlob_Polarity</th>\n",
              "      <th>TextBlob_Analysis</th>\n",
              "    </tr>\n",
              "  </thead>\n",
              "  <tbody>\n",
              "    <tr>\n",
              "      <th>2</th>\n",
              "      <td>1077</td>\n",
              "      <td>60</td>\n",
              "      <td>Some major design flaws</td>\n",
              "      <td>I had such high hopes for this dress and reall...</td>\n",
              "      <td>3</td>\n",
              "      <td>0</td>\n",
              "      <td>0</td>\n",
              "      <td>General</td>\n",
              "      <td>Dresses</td>\n",
              "      <td>Dresses</td>\n",
              "      <td>0.356294</td>\n",
              "      <td>0.073675</td>\n",
              "      <td>Positive</td>\n",
              "    </tr>\n",
              "    <tr>\n",
              "      <th>3</th>\n",
              "      <td>1049</td>\n",
              "      <td>50</td>\n",
              "      <td>My favorite buy!</td>\n",
              "      <td>I love, love, love this jumpsuit. it's fun, fl...</td>\n",
              "      <td>5</td>\n",
              "      <td>1</td>\n",
              "      <td>0</td>\n",
              "      <td>General Petite</td>\n",
              "      <td>Bottoms</td>\n",
              "      <td>Pants</td>\n",
              "      <td>0.625000</td>\n",
              "      <td>0.550000</td>\n",
              "      <td>Positive</td>\n",
              "    </tr>\n",
              "    <tr>\n",
              "      <th>4</th>\n",
              "      <td>847</td>\n",
              "      <td>47</td>\n",
              "      <td>Flattering shirt</td>\n",
              "      <td>This shirt is very flattering to all due to th...</td>\n",
              "      <td>5</td>\n",
              "      <td>1</td>\n",
              "      <td>6</td>\n",
              "      <td>General</td>\n",
              "      <td>Tops</td>\n",
              "      <td>Blouses</td>\n",
              "      <td>0.568750</td>\n",
              "      <td>0.512891</td>\n",
              "      <td>Positive</td>\n",
              "    </tr>\n",
              "    <tr>\n",
              "      <th>5</th>\n",
              "      <td>1080</td>\n",
              "      <td>49</td>\n",
              "      <td>Not for the very petite</td>\n",
              "      <td>I love tracy reese dresses, but this one is no...</td>\n",
              "      <td>2</td>\n",
              "      <td>0</td>\n",
              "      <td>4</td>\n",
              "      <td>General</td>\n",
              "      <td>Dresses</td>\n",
              "      <td>Dresses</td>\n",
              "      <td>0.533125</td>\n",
              "      <td>0.178750</td>\n",
              "      <td>Positive</td>\n",
              "    </tr>\n",
              "    <tr>\n",
              "      <th>6</th>\n",
              "      <td>858</td>\n",
              "      <td>39</td>\n",
              "      <td>Cagrcoal shimmer fun</td>\n",
              "      <td>I aded this in my basket at hte last mintue to...</td>\n",
              "      <td>5</td>\n",
              "      <td>1</td>\n",
              "      <td>1</td>\n",
              "      <td>General Petite</td>\n",
              "      <td>Tops</td>\n",
              "      <td>Knits</td>\n",
              "      <td>0.607778</td>\n",
              "      <td>0.133750</td>\n",
              "      <td>Positive</td>\n",
              "    </tr>\n",
              "    <tr>\n",
              "      <th>...</th>\n",
              "      <td>...</td>\n",
              "      <td>...</td>\n",
              "      <td>...</td>\n",
              "      <td>...</td>\n",
              "      <td>...</td>\n",
              "      <td>...</td>\n",
              "      <td>...</td>\n",
              "      <td>...</td>\n",
              "      <td>...</td>\n",
              "      <td>...</td>\n",
              "      <td>...</td>\n",
              "      <td>...</td>\n",
              "      <td>...</td>\n",
              "    </tr>\n",
              "    <tr>\n",
              "      <th>23481</th>\n",
              "      <td>1104</td>\n",
              "      <td>34</td>\n",
              "      <td>Great dress for many occasions</td>\n",
              "      <td>I was very happy to snag this dress at such a ...</td>\n",
              "      <td>5</td>\n",
              "      <td>1</td>\n",
              "      <td>0</td>\n",
              "      <td>General Petite</td>\n",
              "      <td>Dresses</td>\n",
              "      <td>Dresses</td>\n",
              "      <td>0.710000</td>\n",
              "      <td>0.552667</td>\n",
              "      <td>Positive</td>\n",
              "    </tr>\n",
              "    <tr>\n",
              "      <th>23482</th>\n",
              "      <td>862</td>\n",
              "      <td>48</td>\n",
              "      <td>Wish it was made of cotton</td>\n",
              "      <td>It reminds me of maternity clothes. soft, stre...</td>\n",
              "      <td>3</td>\n",
              "      <td>1</td>\n",
              "      <td>0</td>\n",
              "      <td>General Petite</td>\n",
              "      <td>Tops</td>\n",
              "      <td>Knits</td>\n",
              "      <td>0.708333</td>\n",
              "      <td>0.091667</td>\n",
              "      <td>Positive</td>\n",
              "    </tr>\n",
              "    <tr>\n",
              "      <th>23483</th>\n",
              "      <td>1104</td>\n",
              "      <td>31</td>\n",
              "      <td>Cute, but see through</td>\n",
              "      <td>This fit well, but the top was very see throug...</td>\n",
              "      <td>3</td>\n",
              "      <td>0</td>\n",
              "      <td>1</td>\n",
              "      <td>General Petite</td>\n",
              "      <td>Dresses</td>\n",
              "      <td>Dresses</td>\n",
              "      <td>0.596429</td>\n",
              "      <td>0.414286</td>\n",
              "      <td>Positive</td>\n",
              "    </tr>\n",
              "    <tr>\n",
              "      <th>23484</th>\n",
              "      <td>1084</td>\n",
              "      <td>28</td>\n",
              "      <td>Very cute dress, perfect for summer parties an...</td>\n",
              "      <td>I bought this dress for a wedding i have this ...</td>\n",
              "      <td>3</td>\n",
              "      <td>1</td>\n",
              "      <td>2</td>\n",
              "      <td>General</td>\n",
              "      <td>Dresses</td>\n",
              "      <td>Dresses</td>\n",
              "      <td>0.577778</td>\n",
              "      <td>0.322222</td>\n",
              "      <td>Positive</td>\n",
              "    </tr>\n",
              "    <tr>\n",
              "      <th>23485</th>\n",
              "      <td>1104</td>\n",
              "      <td>52</td>\n",
              "      <td>Please make more like this one!</td>\n",
              "      <td>This dress in a lovely platinum is feminine an...</td>\n",
              "      <td>5</td>\n",
              "      <td>1</td>\n",
              "      <td>22</td>\n",
              "      <td>General Petite</td>\n",
              "      <td>Dresses</td>\n",
              "      <td>Dresses</td>\n",
              "      <td>0.707778</td>\n",
              "      <td>0.413889</td>\n",
              "      <td>Positive</td>\n",
              "    </tr>\n",
              "  </tbody>\n",
              "</table>\n",
              "<p>19662 rows × 13 columns</p>\n",
              "</div>"
            ],
            "text/plain": [
              "       Clothing ID  Age  ... TextBlob_Polarity TextBlob_Analysis\n",
              "2             1077   60  ...          0.073675          Positive\n",
              "3             1049   50  ...          0.550000          Positive\n",
              "4              847   47  ...          0.512891          Positive\n",
              "5             1080   49  ...          0.178750          Positive\n",
              "6              858   39  ...          0.133750          Positive\n",
              "...            ...  ...  ...               ...               ...\n",
              "23481         1104   34  ...          0.552667          Positive\n",
              "23482          862   48  ...          0.091667          Positive\n",
              "23483         1104   31  ...          0.414286          Positive\n",
              "23484         1084   28  ...          0.322222          Positive\n",
              "23485         1104   52  ...          0.413889          Positive\n",
              "\n",
              "[19662 rows x 13 columns]"
            ]
          },
          "metadata": {
            "tags": []
          },
          "execution_count": 37
        }
      ]
    },
    {
      "cell_type": "code",
      "metadata": {
        "colab": {
          "base_uri": "https://localhost:8080/"
        },
        "id": "NhVIsb0lsh7J",
        "outputId": "f32123da-f7d6-4ab1-8455-81aaa4cdf3b2"
      },
      "source": [
        "df['TextBlob_Analysis'].value_counts()"
      ],
      "execution_count": null,
      "outputs": [
        {
          "output_type": "execute_result",
          "data": {
            "text/plain": [
              "Positive    18443\n",
              "Negative     1141\n",
              "Neutral        78\n",
              "Name: TextBlob_Analysis, dtype: int64"
            ]
          },
          "metadata": {
            "tags": []
          },
          "execution_count": 39
        }
      ]
    },
    {
      "cell_type": "code",
      "metadata": {
        "colab": {
          "base_uri": "https://localhost:8080/",
          "height": 405
        },
        "id": "D2wLvP87t91f",
        "outputId": "4ed4b0b1-8547-4cd3-a3a0-2f13c98f6341"
      },
      "source": [
        "# Sentiment analysis chart\n",
        "plt.figure(figsize=(8,6))\n",
        "sns.histplot(df['TextBlob_Analysis'])\n",
        "plt.title(\"Sentiment Analysis of Clothing Reviews\")\n",
        "plt.show();"
      ],
      "execution_count": null,
      "outputs": [
        {
          "output_type": "display_data",
          "data": {
            "image/png": "[encoded data removed]",
            "text/plain": [
              "<Figure size 576x432 with 1 Axes>"
            ]
          },
          "metadata": {
            "tags": [],
            "needs_background": "light"
          }
        }
      ]
    },
    {
      "cell_type": "markdown",
      "metadata": {
        "id": "BJ4EyfoxzqUZ"
      },
      "source": [
        "Around 94% of the reviews are positive based on the chart above."
      ]
    },
    {
      "cell_type": "code",
      "metadata": {
        "colab": {
          "base_uri": "https://localhost:8080/",
          "height": 388
        },
        "id": "RLQwNUptwp6l",
        "outputId": "8d8d9e37-6eea-42e8-89b5-3f8c1c4a71f9"
      },
      "source": [
        "# Subjectivity chart\n",
        "plt.figure(figsize=(8,6))\n",
        "plt.plot(sorted(df['TextBlob_Subjectivity']))\n",
        "plt.xlabel('Number of Reviews')\n",
        "plt.ylabel('TextBlob_Subjectivity')\n",
        "plt.show();"
      ],
      "execution_count": null,
      "outputs": [
        {
          "output_type": "display_data",
          "data": {
            "image/png": "[encoded data removed]",
            "text/plain": [
              "<Figure size 576x432 with 1 Axes>"
            ]
          },
          "metadata": {
            "tags": [],
            "needs_background": "light"
          }
        }
      ]
    },
    {
      "cell_type": "markdown",
      "metadata": {
        "id": "6VdnReWBzv5e"
      },
      "source": [
        "From the chart above, most of the reviews are based on opinions."
      ]
    },
    {
      "cell_type": "code",
      "metadata": {
        "id": "toFZb_uu2ptQ"
      },
      "source": [
        "df['Customer_Rating'] = np.where(df['Rating'] > 3, 'Positive',\n",
        "                                 np.where(df['Rating'] < 3, 'Negative',\n",
        "                                          'Neutral'))"
      ],
      "execution_count": null,
      "outputs": []
    },
    {
      "cell_type": "code",
      "metadata": {
        "colab": {
          "base_uri": "https://localhost:8080/",
          "height": 404
        },
        "id": "oUJDpDpr3CLD",
        "outputId": "99985bdb-0b9b-478b-b42f-5fae030d7995"
      },
      "source": [
        "from sklearn.metrics import confusion_matrix\n",
        "import pylab as pl\n",
        "\n",
        "cm = confusion_matrix(df['Customer_Rating'], df['TextBlob_Analysis'])\n",
        "\n",
        "plt.figure(figsize=(8,6))\n",
        "ax = plt.subplot()\n",
        "sns.heatmap(cm, annot = True, fmt = 'g', ax = ax, cmap=\"BuPu\");\n",
        "\n",
        "ax.set_xlabel('TextBlob Analysis');ax.set_ylabel('Customer Ratings'); \n",
        "ax.set_title('Confusion Matrix'); \n",
        "ax.xaxis.set_ticklabels(['Negative', 'Neutral', 'Positive']); ax.yaxis.set_ticklabels(['Negative', 'Neutral', 'Positive']);"
      ],
      "execution_count": null,
      "outputs": [
        {
          "output_type": "display_data",
          "data": {
            "image/png": "[encoded data removed]",
            "text/plain": [
              "<Figure size 576x432 with 2 Axes>"
            ]
          },
          "metadata": {
            "tags": [],
            "needs_background": "light"
          }
        }
      ]
    },
    {
      "cell_type": "markdown",
      "metadata": {
        "id": "l7CUsl4N6ezr"
      },
      "source": [
        "Here we can see that for the negative ratings provided by the customers, actually majority was predicted as positive from the text review using TextBlob. This also applies to the neutral ratings provided by the customers. For the positive ratings, only a small percentage was predicted as negative and neutral using TextBlob analysis."
      ]
    },
    {
      "cell_type": "markdown",
      "metadata": {
        "id": "qjgncwxR8YPu"
      },
      "source": [
        "### Topic Modeling"
      ]
    },
    {
      "cell_type": "markdown",
      "metadata": {
        "id": "1UFEpPhybX47"
      },
      "source": [
        "Why Gensim? Generate the corpus, score of each words, and use to plot list of words in the topic later on.\n",
        "\n",
        "LDA topic model was built using LdaModel() function. First to create dictionary, then create corpus and build the LDA model. We picked 20 topics. After runing the code, we got the results show the trained topics with the keywords and weights printed."
      ]
    },
    {
      "cell_type": "code",
      "metadata": {
        "id": "QWsyKvp1407P"
      },
      "source": [
        "#Build LDA model with Gensim\n",
        "lda_model = gensim.models.ldamodel.LdaModel(corpus=corpus,\n",
        "                                           id2word=id2word,\n",
        "                                           num_topics=20, \n",
        "                                           random_state=100,\n",
        "                                           update_every=1,\n",
        "                                           chunksize=100,\n",
        "                                           passes=10,\n",
        "                                           alpha='auto',\n",
        "                                           per_word_topics=True)"
      ],
      "execution_count": null,
      "outputs": []
    },
    {
      "cell_type": "code",
      "metadata": {
        "colab": {
          "base_uri": "https://localhost:8080/"
        },
        "id": "RneVxs-K5Xxq",
        "outputId": "37c94f72-6257-42f1-e3c6-e16ee4b3b323"
      },
      "source": [
        "# Print the Keyword in the 10 topics\n",
        "pprint(lda_model.print_topics())\n",
        "doc_lda = lda_model[corpus]\n",
        "#The score of each word reflect how important the word in the topic \n"
      ],
      "execution_count": null,
      "outputs": [
        {
          "output_type": "stream",
          "text": [
            "[(0,\n",
            "  '0.088*\"normally\" + 0.066*\"actually\" + 0.053*\"heavy\" + 0.047*\"flowy\" + '\n",
            "  '0.042*\"dark\" + 0.041*\"favorite\" + 0.035*\"strap\" + 0.033*\"type\" + '\n",
            "  '0.028*\"one\" + 0.024*\"night\"'),\n",
            " (1,\n",
            "  '0.064*\"drape\" + 0.056*\"knee\" + 0.046*\"part\" + 0.045*\"never\" + 0.036*\"frame\" '\n",
            "  '+ 0.035*\"beautifully\" + 0.030*\"bright\" + 0.030*\"curve\" + 0.028*\"wedding\" + '\n",
            "  '0.026*\"vibrant\"'),\n",
            " (2,\n",
            "  '0.099*\"size\" + 0.086*\"fit\" + 0.072*\"top\" + 0.063*\"be\" + 0.055*\"small\" + '\n",
            "  '0.047*\"order\" + 0.037*\"little\" + 0.033*\"large\" + 0.028*\"get\" + '\n",
            "  '0.027*\"beautiful\"'),\n",
            " (3,\n",
            "  '0.204*\"soft\" + 0.060*\"casual\" + 0.060*\"different\" + 0.050*\"tank\" + '\n",
            "  '0.040*\"boot\" + 0.033*\"neckline\" + 0.028*\"tee\" + 0.027*\"green\" + '\n",
            "  '0.023*\"touch\" + 0.022*\"flatter\"'),\n",
            " (4,\n",
            "  '0.142*\"shirt\" + 0.076*\"time\" + 0.060*\"first\" + 0.060*\"have\" + '\n",
            "  '0.054*\"compliment\" + 0.051*\"receive\" + 0.037*\"always\" + 0.034*\"embroidery\" '\n",
            "  '+ 0.023*\"already\" + 0.022*\"will\"'),\n",
            " (5,\n",
            "  '0.194*\"big\" + 0.093*\"bust\" + 0.073*\"slightly\" + 0.052*\"problem\" + '\n",
            "  '0.048*\"snug\" + 0.043*\"comfy\" + 0.022*\"purple\" + 0.021*\"roomy\" + '\n",
            "  '0.020*\"complaint\" + 0.019*\"delicate\"'),\n",
            " (6,\n",
            "  '0.067*\"wash\" + 0.060*\"lace\" + 0.059*\"better\" + 0.046*\"glad\" + 0.045*\"bra\" + '\n",
            "  '0.032*\"appear\" + 0.031*\"flat\" + 0.028*\"hole\" + 0.025*\"loved\" + '\n",
            "  '0.025*\"mean\"'),\n",
            " (7,\n",
            "  '0.119*\"enough\" + 0.062*\"thick\" + 0.058*\"red\" + 0.046*\"room\" + '\n",
            "  '0.045*\"normal\" + 0.042*\"could\" + 0.040*\"issue\" + 0.037*\"stretchy\" + '\n",
            "  '0.035*\"torso\" + 0.030*\"texture\"'),\n",
            " (8,\n",
            "  '0.505*\"dress\" + 0.030*\"neck\" + 0.024*\"slip\" + 0.021*\"belt\" + 0.021*\"pull\" + '\n",
            "  '0.015*\"know\" + 0.013*\"must\" + 0.013*\"exchange\" + 0.013*\"yet\" + '\n",
            "  '0.010*\"occasion\"'),\n",
            " (9,\n",
            "  '0.080*\"s\" + 0.044*\"lightweight\" + 0.042*\"need\" + 0.039*\"heel\" + '\n",
            "  '0.036*\"cotton\" + 0.024*\"thought\" + 0.022*\"woman\" + 0.021*\"sandal\" + '\n",
            "  '0.020*\"rise\" + 0.020*\"classic\"'),\n",
            " (10,\n",
            "  '0.075*\"shape\" + 0.064*\"hip\" + 0.050*\"area\" + 0.037*\"flow\" + 0.028*\"hold\" + '\n",
            "  '0.027*\"otherwise\" + 0.027*\"cover\" + 0.026*\"note\" + 0.024*\"slim\" + '\n",
            "  '0.017*\"maternity\"'),\n",
            " (11,\n",
            "  '0.137*\"bit\" + 0.066*\"side\" + 0.045*\"come\" + 0.045*\"usual\" + 0.041*\"like\" + '\n",
            "  '0.039*\"thing\" + 0.038*\"absolutely\" + 0.037*\"wish\" + 0.034*\"hope\" + '\n",
            "  '0.028*\"happy\"'),\n",
            " (12,\n",
            "  '0.067*\"warm\" + 0.062*\"fine\" + 0.061*\"boxy\" + 0.048*\"knit\" + 0.044*\"coat\" + '\n",
            "  '0.040*\"wardrobe\" + 0.032*\"seam\" + 0.027*\"incredibly\" + 0.022*\"instead\" + '\n",
            "  '0.020*\"mine\"'),\n",
            " (13,\n",
            "  '0.081*\"wear\" + 0.079*\"love\" + 0.059*\"look\" + 0.057*\"color\" + 0.044*\"great\" '\n",
            "  '+ 0.033*\"buy\" + 0.028*\"really\" + 0.027*\"flattering\" + 0.027*\"perfect\" + '\n",
            "  '0.026*\"well\"'),\n",
            " (14,\n",
            "  '0.140*\"pant\" + 0.108*\"pair\" + 0.067*\"legging\" + 0.056*\"blouse\" + '\n",
            "  '0.042*\"especially\" + 0.035*\"longer\" + 0.026*\"consider\" + 0.024*\"crop\" + '\n",
            "  '0.024*\"skinny\" + 0.023*\"less\"'),\n",
            " (15,\n",
            "  '0.175*\"try\" + 0.144*\"store\" + 0.087*\"person\" + 0.057*\"low\" + 0.045*\"full\" + '\n",
            "  '0.037*\"sell\" + 0.023*\"flare\" + 0.020*\"though\" + 0.018*\"hide\" + '\n",
            "  '0.016*\"soon\"'),\n",
            " (16,\n",
            "  '0.085*\"design\" + 0.070*\"summer\" + 0.062*\"print\" + 0.061*\"thin\" + '\n",
            "  '0.060*\"light\" + 0.054*\"weight\" + 0.047*\"lovely\" + 0.024*\"feminine\" + '\n",
            "  '0.023*\"year\" + 0.022*\"spring\"'),\n",
            " (17,\n",
            "  '0.107*\"piece\" + 0.053*\"jacket\" + 0.044*\"tie\" + 0.033*\"bead\" + 0.033*\"pink\" '\n",
            "  '+ 0.026*\"sizing\" + 0.025*\"romper\" + 0.025*\"suit\" + 0.023*\"odd\" + '\n",
            "  '0.022*\"cami\"'),\n",
            " (18,\n",
            "  '0.116*\"fabric\" + 0.050*\"look\" + 0.050*\"way\" + 0.048*\"cut\" + 0.042*\"style\" + '\n",
            "  '0.038*\"model\" + 0.035*\"shoulder\" + 0.034*\"bottom\" + 0.034*\"however\" + '\n",
            "  '0.032*\"see\"'),\n",
            " (19,\n",
            "  '0.067*\"much\" + 0.061*\"feel\" + 0.058*\"back\" + 0.049*\"quality\" + '\n",
            "  '0.040*\"return\" + 0.038*\"sale\" + 0.038*\"online\" + 0.035*\"price\" + '\n",
            "  '0.030*\"keep\" + 0.029*\"front\"')]\n"
          ],
          "name": "stdout"
        }
      ]
    },
    {
      "cell_type": "markdown",
      "metadata": {
        "id": "hvK_s4yrOWhj"
      },
      "source": [
        "From the topics and weights generated above, we then tried to create some meaningful messages to get more insights:\n"
      ]
    },
    {
      "cell_type": "markdown",
      "metadata": {
        "id": "t2rugTqH9ypS"
      },
      "source": [
        "- Strap dress are styled for night event, consider the marterial if it is heavy\n",
        "\n",
        "- Positive feedback about drape of dress for wedding occassion. \n",
        " \n",
        "- Sizing is fit nice with the top, consider that small size run large \n",
        "\n",
        "- Tee receives good feedback, style for casual \n",
        " \n",
        "- Shirts have compliment on the embroidery\n",
        "\n",
        "- Slight big bustline create roomy issue for the top\n",
        "\n",
        "- Lace bra gets bad after washing so consider the material \n",
        "\n",
        "- Compliment for the fabric can cover stretchly and nicely for the torso\n",
        "\n",
        "- Dress with belt as a decoration \n",
        "\n",
        "- Good compliment for heel and sandal which is lightweight\n",
        "\n",
        "- Maternity clothes for pregnant women that can cover the hip area and make them look slim\n"
      ]
    },
    {
      "cell_type": "markdown",
      "metadata": {
        "id": "tNsiePmTPHCi"
      },
      "source": [
        "The Perplexity is to measure how hard the model was predicted, the lower the better. and Coherence Score is used to measure how well the topics are extracted."
      ]
    },
    {
      "cell_type": "code",
      "metadata": {
        "colab": {
          "base_uri": "https://localhost:8080/"
        },
        "id": "LXsmpVUT44vE",
        "outputId": "da12ff45-ba4c-4032-edf7-05324de32665"
      },
      "source": [
        "# Compute Perplexity\n",
        "print('\\nPerplexity: ', lda_model.log_perplexity(corpus))  # a measure of how hard the model was predicted. lower the better.\n",
        "#\n",
        "\n",
        "# Compute Coherence Score\n",
        "coherence_model_lda = CoherenceModel(model=lda_model, texts=data_lemmatized, dictionary=id2word, coherence='c_v')\n",
        "coherence_lda = coherence_model_lda.get_coherence()\n",
        "print('\\nCoherence Score: ', coherence_lda)"
      ],
      "execution_count": null,
      "outputs": [
        {
          "output_type": "stream",
          "text": [
            "\n",
            "Perplexity:  -6.8230353571225155\n",
            "\n",
            "Coherence Score:  0.28291353036359046\n"
          ],
          "name": "stdout"
        }
      ]
    },
    {
      "cell_type": "markdown",
      "metadata": {
        "id": "AFmvoX9n95bp"
      },
      "source": [
        "## Data-driven Insights & Recommendation"
      ]
    },
    {
      "cell_type": "markdown",
      "metadata": {
        "id": "eVJbf9Pd_94L"
      },
      "source": [
        "Word Clouds of Top N Keywords in Each Topic"
      ]
    },
    {
      "cell_type": "code",
      "metadata": {
        "colab": {
          "base_uri": "https://localhost:8080/",
          "height": 665
        },
        "id": "6FZZaHeRmrSv",
        "outputId": "5b96639f-37ec-493a-a116-c0d454d25240"
      },
      "source": [
        "from matplotlib import pyplot as plt\n",
        "from wordcloud import WordCloud, STOPWORDS\n",
        "import matplotlib.colors as mcolors\n",
        "\n",
        "cols = [color for name, color in mcolors.TABLEAU_COLORS.items()]  # more colors: 'mcolors.XKCD_COLORS'\n",
        "\n",
        "cloud = WordCloud(stopwords=stop_words,\n",
        "                  background_color='white',\n",
        "                  width=2500,\n",
        "                  height=1800,\n",
        "                  max_words=10,\n",
        "                  colormap='tab10',\n",
        "                  color_func=lambda *args, **kwargs: cols[i],\n",
        "                  prefer_horizontal=1.0)\n",
        "\n",
        "topics = lda_model.show_topics(formatted=False)\n",
        "\n",
        "fig, axes = plt.subplots(3, 3, figsize=(10,10), sharex=True, sharey=True)\n",
        "\n",
        "for i, ax in enumerate(axes.flatten()):\n",
        "    fig.add_subplot(ax)\n",
        "    topic_words = dict(topics[i][1])\n",
        "    cloud.generate_from_frequencies(topic_words, max_font_size=300)\n",
        "    plt.gca().imshow(cloud)\n",
        "    plt.gca().set_title('Topic ' + str(i), fontdict=dict(size=16))\n",
        "    plt.gca().axis('off')\n",
        "\n",
        "\n",
        "plt.subplots_adjust(wspace=0, hspace=0)\n",
        "plt.axis('off')\n",
        "plt.margins(x=0, y=0)\n",
        "plt.tight_layout()\n",
        "plt.show()\n"
      ],
      "execution_count": null,
      "outputs": [
        {
          "output_type": "display_data",
          "data": {
            "image/png": "[encoded data removed]",
            "text/plain": [
              "<Figure size 720x720 with 9 Axes>"
            ]
          },
          "metadata": {
            "tags": [],
            "needs_background": "light"
          }
        }
      ]
    },
    {
      "cell_type": "markdown",
      "metadata": {
        "id": "W-RpX4bQZ5Pk"
      },
      "source": [
        "We can get the features of each product and how user experiences about it.\n",
        "\n",
        "**Insight:**\n",
        " Topic 4. is about the jacket, we can see that the opinion about jacket is odd, and problem about sizing so we may bring this ideas to the production department to improve the product. \n",
        "\n",
        "Topic 1: Good feedback for the coat with warm, knit, fine and incredible compliment \n",
        "\n",
        "Topic 6: Fabric has nice fit on customers\n",
        "\n",
        "Topic 3: Consider the martetial of the strap dress to see if it is heavy\n",
        "\n",
        "\n",
        " **Recomendation**:\n",
        "Check back with the prodution department "
      ]
    },
    {
      "cell_type": "markdown",
      "metadata": {
        "id": "ELydKvoqAAZQ"
      },
      "source": [
        "Word Counts of Topic Keywords"
      ]
    },
    {
      "cell_type": "code",
      "metadata": {
        "id": "EVeC6qKz5ISK",
        "colab": {
          "base_uri": "https://localhost:8080/",
          "height": 915
        },
        "outputId": "19e778f1-ca2b-4bc8-a611-1f72317dad6d"
      },
      "source": [
        "# Visualize the topics\n",
        "pyLDAvis.enable_notebook()\n",
        "vis = pyLDAvis.gensim_models.prepare(lda_model, corpus, id2word)\n",
        "vis"
      ],
      "execution_count": null,
      "outputs": [
        {
          "output_type": "stream",
          "text": [
            "/usr/local/lib/python3.7/dist-packages/pyLDAvis/_prepare.py:247: FutureWarning: In a future version of pandas all arguments of DataFrame.drop except for the argument 'labels' will be keyword-only\n",
            "  by='saliency', ascending=False).head(R).drop('saliency', 1)\n"
          ],
          "name": "stderr"
        },
        {
          "output_type": "execute_result",
          "data": {
            "text/html": [
              "\n",
              "<link rel=\"stylesheet\" type=\"text/css\" href=\"https://cdn.jsdelivr.net/gh/bmabey/pyLDAvis@3.3.1/pyLDAvis/js/ldavis.v1.0.0.css\">\n",
              "\n",
              "\n",
              "<div id=\"ldavis_el3581403878911255846034407154\"></div>\n",
              "<script type=\"text/javascript\">\n",
              "\n",
              "var ldavis_el3581403878911255846034407154_data = {\"mdsDat\": {\"x\": [0.3385239403559175, 0.19960767615270575, 0.12148641304691823, 0.23485843852786226, -0.012212353790825897, -0.012356920389553583, -0.023970467025173237, -0.026893736787717625, -0.04123143780564819, -0.05708451214459944, -0.05574915569720757, -0.0558914242353402, -0.07459131773732317, -0.07299778241333163, -0.07420613336229383, -0.07731018267729545, -0.07478901383861007, -0.07920958392772219, -0.0741629357626068, -0.08181951048815411], \"y\": [0.17561328041589166, -0.38303667086831533, -0.13921351444637292, 0.20319036419774394, -0.01978062190153145, -0.01985455812419297, -0.010764727572141301, -0.009309251335633486, 0.0020863620701268605, 0.011152481482522219, 0.009986887431905076, 0.010562532445004654, 0.02029539485733506, 0.019654648245169302, 0.020460880190013114, 0.021890333772686493, 0.020243054530849583, 0.022237491082563853, 0.02043166826382619, 0.024153965262549676], \"topics\": [1, 2, 3, 4, 5, 6, 7, 8, 9, 10, 11, 12, 13, 14, 15, 16, 17, 18, 19, 20], \"cluster\": [1, 1, 1, 1, 1, 1, 1, 1, 1, 1, 1, 1, 1, 1, 1, 1, 1, 1, 1, 1], \"Freq\": [23.14510180152145, 19.45321427928375, 8.093520931362542, 7.7577231003121305, 3.8281557327829177, 3.695197160528369, 3.5233106968553205, 3.2781287078168937, 3.0088653515554573, 2.725263740956197, 2.6382980035702466, 2.436074737879716, 2.1992194040934425, 2.14383758308472, 2.088026471500459, 2.070301569388371, 2.0468508511654515, 2.0216512188940814, 1.9875997674138957, 1.8596588900345934]}, \"tinfo\": {\"Term\": [\"dress\", \"size\", \"fit\", \"wear\", \"love\", \"fabric\", \"top\", \"look\", \"soft\", \"be\", \"color\", \"small\", \"bit\", \"try\", \"shirt\", \"big\", \"great\", \"order\", \"store\", \"much\", \"feel\", \"pant\", \"back\", \"little\", \"buy\", \"large\", \"design\", \"quality\", \"way\", \"pair\", \"love\", \"color\", \"great\", \"buy\", \"flattering\", \"perfect\", \"well\", \"material\", \"make\", \"comfortable\", \"work\", \"length\", \"short\", \"long\", \"waist\", \"cute\", \"skirt\", \"sleeve\", \"sweater\", \"black\", \"jean\", \"fall\", \"super\", \"high\", \"give\", \"show\", \"day\", \"hit\", \"stretch\", \"wide\", \"wear\", \"picture\", \"really\", \"look\", \"size\", \"fit\", \"top\", \"be\", \"small\", \"order\", \"large\", \"get\", \"beautiful\", \"medium\", \"purchase\", \"pretty\", \"retailer\", \"find\", \"run\", \"usually\", \"tight\", \"true\", \"still\", \"petite\", \"perfectly\", \"definitely\", \"detail\", \"review\", \"gorgeous\", \"regular\", \"arm\", \"body\", \"probably\", \"recommend\", \"little\", \"go\", \"back\", \"quality\", \"return\", \"sale\", \"online\", \"price\", \"keep\", \"front\", \"pattern\", \"would\", \"white\", \"blue\", \"think\", \"sure\", \"button\", \"sheer\", \"say\", \"seem\", \"may\", \"can\", \"line\", \"expect\", \"worth\", \"item\", \"elastic\", \"arrive\", \"today\", \"bad\", \"cheap\", \"cool\", \"much\", \"feel\", \"fabric\", \"way\", \"cut\", \"style\", \"model\", \"shoulder\", \"bottom\", \"however\", \"see\", \"loose\", \"want\", \"photo\", \"chest\", \"almost\", \"overall\", \"hang\", \"unfortunately\", \"maybe\", \"extra\", \"pocket\", \"huge\", \"reference\", \"kind\", \"place\", \"other\", \"help\", \"stay\", \"tailor\", \"mention\", \"base\", \"tall\", \"look\", \"bit\", \"side\", \"come\", \"usual\", \"like\", \"thing\", \"absolutely\", \"wish\", \"hope\", \"happy\", \"end\", \"take\", \"put\", \"tiny\", \"sized\", \"stunning\", \"straight\", \"tell\", \"slit\", \"tad\", \"often\", \"far\", \"away\", \"lay\", \"half\", \"believe\", \"sexy\", \"mix\", \"daughter\", \"stitching\", \"dress\", \"neck\", \"slip\", \"belt\", \"pull\", \"know\", \"must\", \"exchange\", \"yet\", \"occasion\", \"home\", \"camisole\", \"adjustable\", \"romantic\", \"awkward\", \"fact\", \"classy\", \"difficult\", \"fairly\", \"idea\", \"bring\", \"opinion\", \"everyday\", \"friend\", \"yesterday\", \"unflattere\", \"careful\", \"attach\", \"zipper\", \"fringe\", \"design\", \"summer\", \"print\", \"thin\", \"light\", \"weight\", \"lovely\", \"feminine\", \"year\", \"spring\", \"prefer\", \"send\", \"version\", \"disappoint\", \"good\", \"clothing\", \"new\", \"wonderful\", \"eye\", \"upper\", \"hot\", \"surprise\", \"floral\", \"imagine\", \"silk\", \"stiff\", \"money\", \"catch\", \"form_fitte\", \"designer\", \"shirt\", \"time\", \"first\", \"have\", \"compliment\", \"receive\", \"always\", \"embroidery\", \"already\", \"will\", \"ill\", \"agree\", \"jumpsuit\", \"several\", \"due\", \"lot\", \"use\", \"people\", \"leave\", \"excellent\", \"thread\", \"tag\", \"fabulous\", \"ton\", \"dinner\", \"sleeveless\", \"flimsy\", \"mute\", \"lounge\", \"attention\", \"soft\", \"casual\", \"different\", \"tank\", \"boot\", \"neckline\", \"tee\", \"green\", \"touch\", \"flatter\", \"weather\", \"amount\", \"elegant\", \"fitting\", \"close\", \"gold\", \"lose\", \"closet\", \"state\", \"basic\", \"yellow\", \"fantastic\", \"fold\", \"deep\", \"shade\", \"maeve\", \"stomach\", \"particular\", \"currently\", \"pleased\", \"shape\", \"hip\", \"area\", \"flow\", \"hold\", \"otherwise\", \"cover\", \"note\", \"slim\", \"maternity\", \"substantial\", \"best\", \"ivory\", \"unflattering\", \"start\", \"thigh\", \"grey\", \"sort\", \"waistband\", \"accentuate\", \"pic\", \"combination\", \"silhouette\", \"ok\", \"weekend\", \"structure\", \"washing\", \"middle\", \"rest\", \"realize\", \"try\", \"store\", \"person\", \"low\", \"full\", \"sell\", \"flare\", \"though\", \"hide\", \"soon\", \"last\", \"neutral\", \"itchy\", \"sad\", \"turn\", \"finally\", \"expensive\", \"baggy\", \"awesome\", \"wool\", \"slender\", \"hemline\", \"miss\", \"honey\", \"correct\", \"adn\", \"fast\", \"rack\", \"shimmer\", \"beige\", \"pant\", \"pair\", \"legging\", \"blouse\", \"especially\", \"longer\", \"consider\", \"crop\", \"skinny\", \"less\", \"wrong\", \"bootie\", \"ever\", \"flower\", \"chic\", \"band\", \"office\", \"busty\", \"stop\", \"leather\", \"calf\", \"crazy\", \"comfort\", \"describe\", \"width\", \"multiple\", \"anywhere\", \"waste\", \"clean\", \"real_life\", \"wash\", \"lace\", \"better\", \"glad\", \"bra\", \"appear\", \"flat\", \"hole\", \"loved\", \"mean\", \"throw\", \"simple\", \"armhole\", \"tent\", \"slight\", \"dry\", \"remind\", \"shrink\", \"create\", \"kimono\", \"allow\", \"choose\", \"previous\", \"unusual\", \"alter\", \"provide\", \"glove\", \"fix\", \"hopefully\", \"visible\", \"drape\", \"knee\", \"part\", \"never\", \"frame\", \"beautifully\", \"bright\", \"curve\", \"wedding\", \"vibrant\", \"girl\", \"plan\", \"clothe\", \"product\", \"stand\", \"point\", \"stylish\", \"worry\", \"match\", \"happen\", \"belly\", \"construction\", \"negative\", \"looking\", \"swingy\", \"movement\", \"solid\", \"narrow\", \"lb\", \"accommodate\", \"enough\", \"thick\", \"red\", \"room\", \"normal\", \"could\", \"issue\", \"stretchy\", \"torso\", \"texture\", \"special\", \"similar\", \"sometimes\", \"spot\", \"excited\", \"event\", \"shapeless\", \"stock\", \"early\", \"peplum\", \"begin\", \"surprisingly\", \"pin\", \"expectation\", \"mid\", \"avoid\", \"round\", \"plenty\", \"suspect\", \"past\", \"piece\", \"jacket\", \"tie\", \"bead\", \"pink\", \"sizing\", \"romper\", \"suit\", \"odd\", \"cami\", \"notice\", \"pass\", \"wrinkle\", \"vest\", \"airy\", \"natural\", \"ruffle\", \"edge\", \"brown\", \"silver\", \"sweatshirt\", \"ready\", \"olive\", \"funny\", \"opt\", \"exception\", \"website\", \"trouser\", \"raise\", \"yarn\", \"normally\", \"actually\", \"heavy\", \"flowy\", \"dark\", \"favorite\", \"strap\", \"type\", \"one\", \"night\", \"option\", \"tuck\", \"let\", \"whole\", \"immediately\", \"rich\", \"justice\", \"compare\", \"draw\", \"bother\", \"orange\", \"portion\", \"comment\", \"afraid\", \"colored\", \"athletic\", \"hesitant\", \"sweet\", \"offer\", \"disappointing\", \"s\", \"lightweight\", \"need\", \"heel\", \"cotton\", \"thought\", \"woman\", \"sandal\", \"rise\", \"classic\", \"addition\", \"pilcro\", \"slimme\", \"snag\", \"coverage\", \"there\", \"old\", \"barely\", \"hem\", \"highly_recommend\", \"scratchy\", \"live\", \"build\", \"shoe\", \"trim\", \"anyway\", \"bite\", \"baby\", \"overly\", \"head\", \"big\", \"bust\", \"slightly\", \"problem\", \"snug\", \"comfy\", \"purple\", \"roomy\", \"complaint\", \"delicate\", \"become\", \"else\", \"perhaps\", \"deal\", \"pop\", \"comfortably\", \"butt\", \"swallow\", \"stick\", \"mostly\", \"holiday\", \"possible\", \"discount\", \"volume\", \"word\", \"disappointment\", \"bold\", \"concept\", \"conservative\", \"machine_washable\", \"warm\", \"fine\", \"boxy\", \"knit\", \"coat\", \"wardrobe\", \"seam\", \"incredibly\", \"instead\", \"mine\", \"interesting\", \"pick\", \"hand\", \"clingy\", \"typical\", \"wrap\", \"rayon\", \"check\", \"tunic\", \"hanger\", \"garment\", \"taste\", \"relaxed\", \"gather\", \"nearly\", \"description\", \"name\", \"block\", \"dressed\", \"lavender\"], \"Freq\": [8806.0, 9043.0, 7879.0, 8877.0, 8578.0, 4259.0, 6637.0, 8264.0, 2896.0, 5816.0, 6209.0, 5053.0, 2483.0, 2176.0, 2193.0, 1818.0, 4828.0, 4308.0, 1791.0, 2569.0, 2778.0, 1610.0, 2200.0, 3393.0, 3657.0, 3042.0, 1416.0, 1886.0, 1836.0, 1243.0, 8577.104187127485, 6208.091048419635, 4827.911514278457, 3656.7756637355865, 2970.0405762523037, 2959.783522398329, 2792.4007938907175, 2676.300283834877, 2654.9650992811676, 2651.3411341492024, 2644.6785541855193, 2584.7580459658275, 2545.8869623374244, 2425.122564951856, 2271.5693982981616, 2200.1660175102534, 2172.902686604463, 1984.8929701190486, 1866.2848909694828, 1710.4169669262444, 1650.7345242126119, 1474.2850693813223, 1306.494954962872, 1197.463698923996, 1151.2189913257725, 893.9601784097166, 891.9388080278537, 841.3033121671912, 778.2436138122814, 718.1532767181261, 8829.677756987085, 1447.5468859651899, 3021.3240150313163, 6425.005842726611, 9042.488109986507, 7878.635307763577, 6636.985269699083, 5815.382183754755, 5052.876962010071, 4307.505252359274, 3041.513619918988, 2531.3661521110976, 2437.9065599911883, 2007.6639134361778, 1986.9244798023171, 1938.1876142059623, 1887.5551354515167, 1873.6490718583736, 1710.6670252595625, 1642.856930506929, 1593.8198848487464, 1545.4076445014866, 1509.7479284209385, 1460.2079614974386, 1388.129873804229, 1135.7157078968187, 1134.7643114650978, 1078.1970369837143, 1073.0331193825234, 969.5739926346862, 953.9353122894619, 867.915946257815, 730.8397296018551, 601.1593787118088, 3367.9043927489124, 2287.5278023550027, 2200.029482600997, 1885.1561129481204, 1534.1237916521907, 1447.414083947629, 1438.1006688997584, 1327.5696707601178, 1128.6961479424979, 1108.1757679251493, 1089.9283732572844, 1020.0435507561166, 925.8634813641312, 871.9574066182895, 775.9575407327579, 768.7926476793976, 768.1737447565524, 745.5200628349588, 737.8388957851687, 714.3140415006781, 662.1020908208178, 650.1599385939908, 634.8021562971066, 595.7288418559125, 530.6276439397944, 374.2041619447571, 356.34239031155846, 343.24678283275466, 327.4993591128865, 317.1123231650149, 298.054618714835, 285.9279051130616, 2550.068088470819, 2341.4170089741533, 4258.40281518681, 1835.526080581011, 1754.0261797125036, 1547.3776564753134, 1392.1838535077457, 1289.0606284319615, 1261.4452018035288, 1229.5937600183718, 1168.3284019227083, 1030.3405729077353, 998.9555577166481, 881.20213513234, 785.6106565331143, 712.6842927302586, 708.2562396145315, 594.95104878843, 589.5623968511541, 529.8118685343309, 498.51704369459617, 494.20512002976045, 488.87581102585756, 471.590997208305, 389.5185955305315, 301.8216699459585, 291.4035254562148, 285.8637552563835, 284.48519948536926, 270.03470096865607, 268.71402245259145, 248.17697047027883, 677.6178341951854, 1838.8150629629888, 2482.455961709603, 1191.5951702764753, 819.1806892656284, 813.7450761630732, 741.3330294002152, 713.0676528831148, 679.9949232819224, 671.5991276678719, 612.7998971178729, 501.42876573718576, 478.0724022836052, 434.60021337058413, 409.7952456701059, 327.2672572349356, 320.23273651417765, 312.14858155182145, 274.41754073909016, 247.93985933342532, 238.78262307266704, 235.52432317609882, 225.1420370672807, 195.34341814701497, 170.23521978652238, 165.61404709824242, 162.60199175806477, 138.10364394424784, 135.01046582432485, 122.29549191323171, 115.41088770416155, 111.88627701105425, 8805.801032368556, 529.336364706069, 413.85601994915436, 371.45844729660394, 368.8056806215252, 257.3156073973488, 233.61131306386292, 231.62720140283918, 230.32486327887344, 182.1840726931019, 174.96331616348243, 160.88756311193166, 153.99389292441472, 150.8330594914975, 144.5650032233808, 144.0622780423591, 134.1492531464897, 129.3891126487054, 125.66009130611774, 124.8395260686992, 109.86792239462467, 107.6565014745616, 104.97195322921257, 103.68515276182343, 99.1313286391145, 94.21876649039908, 89.5086565973596, 88.59786092480581, 82.62586439302588, 81.08480324557632, 1415.4488199042935, 1170.7550271378482, 1027.2847711051243, 1017.5048290316954, 1005.3627998845672, 893.3606386382456, 780.3775047231895, 406.91962452573955, 385.4704298691129, 368.5745348440808, 315.6430652002476, 285.45583265679267, 276.79578587438755, 271.0788738261458, 268.8205375229592, 253.4403914076892, 243.7354526889507, 238.52192228868967, 221.64304040850888, 193.2619722410681, 192.2726245847407, 179.86917507627984, 149.39914350630616, 147.57221968784833, 142.09332138127107, 135.6119633767931, 133.77469853853486, 122.19714510322322, 119.67159870606133, 117.17015555415288, 2193.0234383986513, 1176.0841829492256, 929.0761377672677, 925.7600375113095, 835.4762438439828, 788.3655889237529, 572.2917387161062, 523.1664656063917, 360.12605075893396, 335.2910766331063, 314.5119273755649, 314.10172142986795, 304.2105441444593, 288.1219731269339, 279.3134629948309, 258.9521246246763, 230.9247601750389, 226.61864918602316, 177.2649541629376, 177.1943059830344, 151.84736660651163, 145.96085367256634, 142.34234175804588, 138.57530302779412, 136.64520339481768, 126.1840731783285, 103.84522671767425, 84.0541941594172, 74.58684113858381, 71.63033363684849, 2895.5397808616685, 851.9278101341725, 845.4041598362173, 711.5856976095354, 564.7578503810228, 475.4832838020589, 396.2151818857305, 386.11525026000476, 328.98112994026377, 318.02833541172595, 236.7156469828523, 227.25554761733093, 212.82312479739505, 207.74227654807123, 207.61021975962583, 185.94829259741826, 178.10846352841008, 173.08372189738265, 164.90232197613057, 157.88190865058257, 154.21427559509578, 133.45101940176937, 122.24538814492854, 119.84770274735095, 117.06965836885804, 93.4154042280651, 91.48938987845582, 87.50974638507734, 83.43077937066667, 81.49616526723982, 969.4454366091346, 819.0933815761604, 640.4977197937985, 479.6953975900273, 363.09625329445504, 349.406501009732, 348.9856577192239, 333.0026651333303, 306.92017597221655, 219.94386831204682, 210.231184508026, 181.4536147229124, 180.73029256250382, 168.13319295809, 161.83450545321875, 157.20380433440798, 156.31384997600503, 147.39531539844168, 145.37332539772865, 145.09843495727475, 143.65072493757708, 141.39784947827485, 140.16683555566715, 136.86694088160294, 136.29139164124672, 129.37607160546747, 117.07241039168674, 112.97140951307979, 111.73464800100405, 110.15674310571046, 2175.6861451785444, 1790.623851522196, 1084.340885927092, 708.4339842533665, 554.6767223222552, 463.6365152728059, 292.324061627919, 245.86222089799264, 228.69925739784574, 201.4467227189557, 189.50552045948285, 186.48888951264323, 184.2280710660049, 168.40164641722856, 161.28466803118226, 149.77157134439904, 128.92835587915317, 124.43622072377953, 112.7818054960237, 110.0344344187363, 90.18696346591807, 84.96895224968866, 78.04558988616675, 76.42528372910029, 72.07974149220252, 65.41081857705056, 63.573126922579526, 60.213365841045494, 59.05353602409263, 57.64776951898666, 1609.3932341708323, 1242.1110658244218, 772.4491415092539, 647.2544928728952, 482.3900350099468, 402.4992281566821, 294.63670175799354, 280.60753554853426, 270.53027970737395, 266.7657451378146, 263.08172243607873, 245.87438181966442, 238.9814013911304, 163.24950025472089, 156.1615659361924, 153.39828132192247, 136.92257972772035, 118.22345759652626, 109.7473732314801, 103.51659809921146, 99.74007558868392, 99.23144437903545, 97.05507651034347, 97.00902997280333, 83.97035668231834, 82.80266165914927, 70.75708224268793, 70.48675417385624, 68.4313895843115, 66.95486058370992, 698.514604895705, 617.475584649387, 610.7487833600895, 481.79381729769585, 470.9571807546476, 337.18726310804277, 319.7870691951017, 290.17032805161966, 262.20181517311516, 257.941220381626, 243.6161847719201, 225.0869080192374, 221.22822914959724, 177.5676408689247, 170.38854164074405, 149.70209515066503, 144.34382173028214, 142.42015437908293, 120.10290171392143, 119.0492662828877, 117.01459229346656, 114.941788760659, 112.64877890138564, 103.84785027100794, 99.68601930692704, 94.56641788898852, 90.74194545208736, 83.54161697737348, 81.12059389184981, 74.98762690401874, 644.4800719732755, 561.3385548388958, 467.7882642666698, 453.97494446939464, 360.868236985622, 351.44093775750304, 302.35068662933867, 299.9560425302818, 282.03580194536056, 267.4801125233682, 248.09977410070434, 238.33241208783764, 203.84781140904087, 203.35771483016916, 182.89311661506312, 180.0028561102036, 172.6060996326943, 152.70437305254998, 147.41958148263222, 137.25140091077745, 136.83671684796275, 123.65544549278435, 110.93564485633561, 109.0995394222947, 106.8602322957955, 104.05626382935695, 101.54559975025086, 99.57618955387682, 98.15694408712338, 93.19226480120285, 1172.55761183422, 610.478720274598, 572.7827435873824, 457.18403342045815, 441.52115307093777, 412.98595130356193, 391.7782832373701, 369.36595888394913, 345.8009046650381, 297.113517334693, 268.25743596895205, 228.9762355339805, 218.9709681899209, 181.51988971858918, 147.71782585647904, 131.42870001679395, 124.59033889637475, 103.01602075159583, 89.68315050488837, 88.53576007004358, 86.00376903065683, 82.70947793672538, 82.42739636619324, 80.2951470314029, 76.39553239161344, 73.95432543461524, 73.50551050919154, 71.79189272040414, 65.50020397726024, 60.46400620382893, 1046.954806914818, 514.7546466478469, 433.42507551782285, 320.0141369685874, 317.9011522755569, 255.45057833593629, 246.33132761881194, 244.48823313036462, 221.4656253645607, 210.83138732714932, 180.5491605888845, 163.93425749759638, 155.2905847944935, 140.33344612666528, 130.72147068046587, 125.61295031937733, 124.60899878249042, 122.07623339646688, 113.6287973426216, 105.31325909688066, 91.34675483552107, 91.29948084181636, 89.62383289485764, 86.7299767922472, 84.47666192779425, 83.82980778764886, 82.17026046967943, 82.03181325317267, 79.77334072960281, 78.97589567820451, 847.1891890945292, 641.5698830956992, 516.2924690042286, 451.5039163245185, 402.0061326224263, 396.5913002144952, 339.3940459335924, 314.10869993080024, 270.18712555699005, 235.21428992995436, 231.33190872988956, 227.8123737864274, 210.98161716206374, 192.7621592571013, 191.4944367065828, 166.93296655750464, 135.11512886493068, 125.19323620613376, 122.13920676725715, 104.77863309364513, 103.92840047828767, 99.0715973019021, 94.87081504922344, 93.01355052034098, 90.68210189078859, 89.32538101192677, 88.26377736675391, 87.33396247497062, 84.81412086015791, 73.83981127732828, 765.8684951173815, 422.6507107707501, 401.18722572769997, 372.81524750107377, 340.79246756333333, 227.90290723944102, 213.6174325270474, 196.45321764826087, 192.02546893889908, 191.99292293577133, 183.73810535206732, 176.23971586180053, 169.00629560551332, 149.9674344996248, 147.1024890774615, 146.1449934821684, 143.93945992905327, 137.37827807798138, 133.16214056744948, 131.70157649859175, 129.73275649278875, 116.06270680242132, 107.49355025619407, 106.30370249119136, 95.62769855307971, 93.2118684322654, 92.00127969638297, 90.67029562032758, 85.69892029049032, 78.66668301041507, 1818.0412776726355, 868.2550690773073, 684.5452546547285, 489.01151281800776, 451.9892336755779, 401.5066670779168, 203.08477282386977, 196.23512632747762, 189.97593738753952, 179.7799688405932, 172.52741531845763, 167.18070564615928, 151.77410548472488, 140.02074967789684, 127.34387605477856, 123.63203307561137, 101.69548514325767, 86.05498826623271, 85.62972468626042, 84.35775901304362, 81.6163913470763, 76.97083910678091, 73.45598706266865, 53.245356383754775, 51.78741649156105, 50.34637937698842, 50.2532110571483, 49.52826048764669, 47.61348711566139, 46.63867585356516, 586.2865735602426, 546.2899462622436, 530.8402352063222, 419.20489015002875, 387.0730693489678, 350.11251523201094, 277.6551725507884, 241.2625441723734, 189.59721885480076, 178.03992272167267, 175.70198654970173, 164.54197533096072, 139.77174872093846, 128.56361097211354, 125.92787044666751, 123.81725654862942, 116.56722766179543, 111.42311441242259, 108.30458063008898, 97.61032636683912, 91.42287243386453, 90.4404784035558, 88.89294490749943, 87.45706659541533, 84.0788783354915, 83.53321009575235, 77.28092016681582, 64.2425566257413, 60.99434676603985, 58.563070455458806], \"Total\": [8806.0, 9043.0, 7879.0, 8877.0, 8578.0, 4259.0, 6637.0, 8264.0, 2896.0, 5816.0, 6209.0, 5053.0, 2483.0, 2176.0, 2193.0, 1818.0, 4828.0, 4308.0, 1791.0, 2569.0, 2778.0, 1610.0, 2200.0, 3393.0, 3657.0, 3042.0, 1416.0, 1886.0, 1836.0, 1243.0, 8578.028720996042, 6209.015582288192, 4828.836048147014, 3657.7001976041447, 2970.965110120862, 2960.708056324272, 2793.3253277592758, 2677.2248177034353, 2655.889633149726, 2652.2656680177606, 2645.6030880540775, 2585.6825798343857, 2546.8114962059826, 2426.0470988204142, 2272.49393216672, 2201.0905513788116, 2173.827220473021, 1985.8175039876073, 1867.2094248380415, 1711.341500794803, 1651.6590580811705, 1475.209603249881, 1307.4194888314307, 1198.3882327925546, 1152.1435252621502, 894.8847124432309, 892.8633418964124, 842.2278460357498, 779.1681476808401, 719.0778105866848, 8877.45481747151, 1454.0258740271056, 3077.157218564476, 8264.696213008083, 9043.413183110006, 7879.560380887076, 6637.910342822582, 5816.307256878254, 5053.80203513357, 4308.430325482773, 3042.4386930424876, 2532.2912252345973, 2438.831633114688, 2008.588986559678, 1987.8495529258173, 1939.1126873294625, 1888.4802085750168, 1874.5741449818738, 1711.5920983830626, 1643.7820036304292, 1594.7449579722465, 1546.3327176249868, 1510.6730015444386, 1461.1330346209388, 1389.0549469277291, 1136.6407810203189, 1135.689384588598, 1079.1221101072144, 1073.9581925060236, 970.4990657581862, 954.8603854129619, 868.841019381315, 731.7648027253551, 602.0844518353089, 3393.2027981013175, 2365.1316060427303, 2200.9545640668507, 1886.0811944139746, 1535.0488731180449, 1448.3391654134832, 1439.0257503656126, 1328.494752225972, 1129.621229408352, 1109.1008493910035, 1090.8534547231386, 1020.9686322219706, 926.7885628299852, 872.8824880841435, 776.8826221986119, 769.7177291452516, 769.0988262224064, 746.4451443008128, 738.7639772510227, 715.239122966532, 663.0271722866718, 651.0850200598447, 635.7272377629606, 596.6539233217665, 531.5527254056484, 375.12924341061114, 357.2674717957404, 344.1718642986087, 328.42444057874053, 318.03740463086893, 298.979700180689, 286.85298657891565, 2569.1241978179874, 2778.796155877413, 4259.3272772230275, 1836.4505426172302, 1754.9506417487228, 1548.3021185115326, 1393.1083155439649, 1289.9850904681807, 1262.369663839748, 1230.518222054591, 1169.2528639589275, 1031.2650349439546, 999.880019752867, 882.126597168559, 786.5351185693332, 713.6087547664775, 709.1807016507505, 595.8755108246489, 590.486858887373, 530.7583448609747, 499.4415057308152, 495.1295820659795, 489.8002730620766, 472.51545924452404, 390.44305756675055, 302.74613198217753, 292.32798749243386, 286.78821729260255, 285.4096615215883, 270.9591630048751, 269.6384844888105, 249.1014325064979, 738.2122526768046, 8264.696213008083, 2483.382347870622, 1192.5215564374953, 820.1070754266481, 814.6714623240929, 742.2594155612348, 713.9940390441344, 680.9213094429421, 672.5255138288916, 613.7262832788925, 502.35515189820546, 478.9987884446249, 435.52659953160384, 410.7216318311256, 328.1936433959553, 321.15912267519735, 313.07496771284116, 275.34392690010986, 248.86624549444502, 239.70900923368674, 236.45070933711852, 226.06842322830042, 196.26980430803468, 171.16160594754209, 166.54043325926213, 163.52837792304828, 139.03003010526754, 135.93685198534456, 123.2218780742514, 116.33727386518125, 112.81266317207394, 8806.728851525902, 530.264183863416, 414.7838391065013, 372.3862664539509, 369.73349977887216, 258.24342655469576, 234.53913222120988, 232.55502056018614, 231.2526824362204, 183.11189185044887, 175.8911353208294, 161.81538231065994, 154.92171214568015, 151.76087864884445, 145.49282238072777, 144.99009719970607, 135.07707230383667, 130.31693180605237, 126.58791046346468, 125.76734522604615, 110.79574155197162, 108.58432063190854, 105.89977238655952, 104.61297191917038, 100.05914779646145, 95.14658564774602, 90.43647575470655, 89.52568008215276, 83.55368355037282, 82.0126224067027, 1416.3743709256491, 1171.6805781592038, 1028.21032212648, 1018.4303800530508, 1006.2883509059226, 894.2861896596011, 781.303055744545, 407.84517554709504, 386.39598089046837, 369.5000858654363, 316.56861622160307, 286.38138367814815, 277.72133689574304, 272.0044248475013, 269.7460885443147, 254.3659424290447, 244.6610037103062, 239.44747331004518, 222.5685914298644, 194.1875232624236, 193.1981756060962, 180.79472609763536, 150.32469452766168, 148.49777070920385, 143.01887240262658, 136.53751439814863, 134.70024955989038, 123.12269612457871, 120.59714972741682, 118.09570657550837, 2193.9486260780086, 1177.0093706285838, 930.0013254466259, 926.6852251906677, 836.401431523341, 789.290776603111, 573.2169263954644, 524.0916532857499, 361.0512384382921, 336.21626431246443, 315.437115054923, 315.0269091092261, 305.1357318269209, 289.047160806292, 280.23865067418905, 259.87731230403443, 231.84994785439707, 227.54383686538134, 178.1901418422958, 178.11949366239259, 152.7725542858698, 146.88604135192452, 143.26752943740405, 139.5004907071523, 137.57039107417586, 127.10926086207796, 104.77041439703243, 84.97938183877537, 75.51202881794198, 72.55552131620667, 2896.464474630816, 852.8525039033206, 846.3288536053653, 712.5103913786834, 565.6825441501708, 476.407977571207, 397.1398756548786, 387.0399440291529, 329.9058237094119, 318.95302918087407, 237.6403407520004, 228.18024138647905, 213.74781856654317, 208.66697031721935, 208.53491352877396, 186.87298636656638, 179.0331572975582, 174.00841566653077, 165.8270157452787, 158.8066024197307, 155.1389693642439, 134.3757131709175, 123.17008191407663, 120.77239651649904, 117.99435213800614, 94.34009799721319, 92.41408364760392, 88.43444015422543, 84.35547313981476, 82.42085903638791, 970.3685198170889, 820.0164647841146, 641.4208030017528, 480.6184807979817, 364.01933650240943, 350.3295842176864, 349.9087409271783, 333.9257483412847, 307.84325918017095, 220.86695152000124, 211.1542677159804, 182.3766979308668, 181.65337577045824, 169.05627616604443, 162.75758866117317, 158.1268875423624, 157.23693318395945, 148.3183986063961, 146.29640860568307, 146.02151816522917, 144.5738081455315, 142.32093268622927, 141.08991876362157, 137.79002408955736, 137.21447484920114, 130.2991548134219, 117.99549359964114, 113.89449272103418, 112.65773120895844, 111.07982631366485, 2176.6103424112816, 1791.548048754934, 1085.2650831598298, 709.3581814861043, 555.600919554993, 464.5607125055438, 293.24825886065685, 246.78641813073054, 229.62345463058364, 202.3709199516936, 190.42971769222075, 187.41308674538112, 185.1522682987428, 169.32584364996646, 162.20886526392016, 150.69576857713693, 129.85255311189107, 125.3604179565174, 113.70600272876156, 110.95863165147416, 91.11116069865594, 85.89314952029908, 78.96978711890462, 77.34948297420988, 73.00393873220466, 66.33501587767071, 64.49732415531739, 61.13756312561149, 59.97773328472675, 58.57196675172453, 1610.3190631647653, 1243.0368948183548, 773.3749705031869, 648.1803218668282, 483.31586400387977, 403.42505715061503, 295.5625307519265, 281.5333645424672, 271.4561087013069, 267.69157413174753, 264.0075514300117, 246.8002108135975, 239.90723038506346, 164.17532924865395, 157.08739493012547, 154.32411031585553, 137.8484087216534, 119.14928659045927, 110.6732022254131, 104.44242709314447, 100.66590458261693, 100.15727337296846, 97.98090550427648, 97.93485896673634, 84.89618567625135, 83.72849065308228, 71.68291123662094, 71.41258316778925, 69.35721857824451, 67.88068957764293, 699.4373285148644, 618.3983082685463, 611.6715069792489, 482.7165409168552, 471.87990437380694, 338.1099867272021, 320.70979281426105, 291.093051670779, 263.1245387922745, 258.86394400078535, 244.5389083910795, 226.0096316383968, 222.15095276875664, 178.4903644880841, 171.31126525990345, 150.62481876982443, 145.26654534944154, 143.34287799824233, 121.02562533308078, 119.97198995235055, 117.93731591262592, 115.86451237981835, 113.571502520545, 104.7705738901673, 100.60874292608639, 95.48914150814788, 91.66466907124672, 84.46434059653284, 82.04331751100916, 75.9103505231781, 645.4056649105269, 562.2641477761472, 468.7138572039212, 454.90053740664604, 361.7938299228734, 352.36653069475443, 303.27627956659006, 300.8816354675332, 282.96139488261196, 268.4057054606196, 249.02536703795576, 239.25800502508906, 204.7734043462923, 204.28330776742058, 183.81870955231454, 180.92844904745502, 173.53169256994573, 153.6299659898014, 148.34517441988365, 138.17699384802887, 137.76230978521417, 124.58103843003575, 111.86123779358701, 110.02513235954609, 107.78582523304689, 104.98185676660835, 102.47119268750225, 100.50178249112821, 99.08253702437477, 94.11785774430099, 1173.4826851834803, 611.4037936238581, 573.7078169366424, 458.1091067697181, 442.4462264201977, 413.9110246528219, 392.70335658663004, 370.2910322332091, 346.72597801429805, 298.0385906839529, 269.182509318212, 229.90130888324055, 219.89604153918094, 182.44496306784922, 148.64289920573907, 132.35377336605399, 125.51541224563475, 103.94109410085584, 90.60822385414838, 89.46083341930358, 86.92884237991683, 83.63455128598538, 83.35246971545324, 81.22022038936872, 77.32060574087345, 74.87939878387525, 74.43058386289314, 72.71696606966414, 66.42527739067066, 61.38907955308893, 1047.8786539017765, 515.6784936348055, 434.3489225047813, 320.93798395554586, 318.82499926251535, 256.37442532289475, 247.25517460577043, 245.41208011732311, 222.3894723515192, 211.7552343141078, 181.47300757584298, 164.85810448455487, 156.214431781452, 141.25729311362377, 131.64531767065193, 126.5367973063358, 125.53284576944888, 123.00008038342534, 114.55264432958006, 106.23710614307467, 92.27060182247953, 92.22332782877483, 90.54767988181611, 87.65382380051142, 85.40050891475272, 84.7536547975022, 83.0941074566379, 82.95566024013114, 80.69718771656127, 79.89974267662153, 848.1144475911002, 642.4951415922702, 517.2177275007996, 452.4291748210895, 402.9313911189973, 397.5165587110662, 340.31930443016336, 315.0339584273712, 271.112384053561, 236.13954842652532, 232.25716722646052, 228.73763228299836, 211.9068756586347, 193.68741775367226, 192.41969520315376, 167.8582250540756, 136.04038736150164, 126.11849470270471, 123.0644652638281, 105.70389159021607, 104.85365897485862, 99.99685579847305, 95.79607354579439, 93.93880901691193, 91.60736038735953, 90.25063950849771, 89.18903586332486, 88.25922097154157, 85.73937935672886, 74.76506977389923, 766.7932928571405, 423.575508510509, 402.11202346745887, 373.74004524083267, 341.71726530309223, 228.82770497919995, 214.54223026680634, 197.3780153880198, 192.950266678658, 192.91772067553026, 184.66290309182625, 177.16451360155946, 169.93109334527225, 150.89223223938373, 148.02728681722044, 147.06979122192732, 144.8642576688122, 138.3030758177403, 134.0869383072084, 132.62637423835068, 130.65755423254768, 116.98750454218023, 108.41834799595298, 107.22850023095027, 96.55249629283863, 94.13666617202432, 92.92607743614188, 91.5950933600865, 86.62371803024924, 79.59148075017399, 1818.9669397207265, 869.1807311253984, 685.4709167028196, 489.9371748660988, 452.91489572366896, 402.43232912600786, 204.01043487196083, 197.16078837556867, 190.90159943563057, 180.70563088868425, 173.45307736654868, 168.10636769425034, 152.69976753281594, 140.9464117259879, 128.2695381028696, 124.55769512370242, 102.62114719134871, 86.98065033957498, 86.55538673435146, 85.28342106113466, 82.54205339516734, 77.89650115487196, 74.3816491107597, 54.17101843184583, 52.71307853965211, 51.27204142507948, 51.178873105239354, 50.453922535737746, 48.53914916375245, 47.564337901656216, 587.2118038057889, 547.2151765077899, 531.7654654518685, 420.1301203955751, 387.99829959451415, 351.0377454775573, 278.58040279633474, 242.1877744179197, 190.52244910034707, 178.96515296721898, 176.62721679524805, 165.46720557650704, 140.69697896648478, 129.48884121765985, 126.85310069221384, 124.74248679417575, 117.49245792614298, 112.34834465796892, 109.22981087563531, 98.53555661238545, 92.34810267941086, 91.36570867463, 89.81817515304576, 88.38229684096166, 85.00410858103783, 84.45844034129868, 78.20615048051891, 65.16778687128763, 61.91957705732833, 59.48830070100513], \"Category\": [\"Default\", \"Default\", \"Default\", \"Default\", \"Default\", \"Default\", \"Default\", \"Default\", \"Default\", \"Default\", \"Default\", \"Default\", \"Default\", \"Default\", \"Default\", \"Default\", \"Default\", \"Default\", \"Default\", \"Default\", \"Default\", \"Default\", \"Default\", \"Default\", \"Default\", \"Default\", \"Default\", \"Default\", \"Default\", \"Default\", \"Topic1\", \"Topic1\", \"Topic1\", \"Topic1\", \"Topic1\", \"Topic1\", \"Topic1\", \"Topic1\", \"Topic1\", \"Topic1\", \"Topic1\", \"Topic1\", \"Topic1\", \"Topic1\", \"Topic1\", \"Topic1\", \"Topic1\", \"Topic1\", \"Topic1\", \"Topic1\", \"Topic1\", \"Topic1\", \"Topic1\", \"Topic1\", \"Topic1\", \"Topic1\", \"Topic1\", \"Topic1\", \"Topic1\", \"Topic1\", \"Topic1\", \"Topic1\", \"Topic1\", \"Topic1\", \"Topic2\", \"Topic2\", \"Topic2\", \"Topic2\", \"Topic2\", \"Topic2\", \"Topic2\", \"Topic2\", \"Topic2\", \"Topic2\", \"Topic2\", \"Topic2\", \"Topic2\", \"Topic2\", \"Topic2\", \"Topic2\", \"Topic2\", \"Topic2\", \"Topic2\", \"Topic2\", \"Topic2\", \"Topic2\", \"Topic2\", \"Topic2\", \"Topic2\", \"Topic2\", \"Topic2\", \"Topic2\", \"Topic2\", \"Topic2\", \"Topic2\", \"Topic2\", \"Topic3\", \"Topic3\", \"Topic3\", \"Topic3\", \"Topic3\", \"Topic3\", \"Topic3\", \"Topic3\", \"Topic3\", \"Topic3\", \"Topic3\", \"Topic3\", \"Topic3\", \"Topic3\", \"Topic3\", \"Topic3\", \"Topic3\", \"Topic3\", \"Topic3\", \"Topic3\", \"Topic3\", \"Topic3\", \"Topic3\", \"Topic3\", \"Topic3\", \"Topic3\", \"Topic3\", \"Topic3\", \"Topic3\", \"Topic3\", \"Topic3\", \"Topic3\", \"Topic4\", \"Topic4\", \"Topic4\", \"Topic4\", \"Topic4\", \"Topic4\", \"Topic4\", \"Topic4\", \"Topic4\", \"Topic4\", \"Topic4\", \"Topic4\", \"Topic4\", \"Topic4\", \"Topic4\", \"Topic4\", \"Topic4\", \"Topic4\", \"Topic4\", \"Topic4\", \"Topic4\", \"Topic4\", \"Topic4\", \"Topic4\", \"Topic4\", \"Topic4\", \"Topic4\", \"Topic4\", \"Topic4\", \"Topic4\", \"Topic4\", \"Topic4\", \"Topic5\", \"Topic5\", \"Topic5\", \"Topic5\", \"Topic5\", \"Topic5\", \"Topic5\", \"Topic5\", \"Topic5\", \"Topic5\", \"Topic5\", \"Topic5\", \"Topic5\", \"Topic5\", \"Topic5\", \"Topic5\", \"Topic5\", \"Topic5\", \"Topic5\", \"Topic5\", \"Topic5\", \"Topic5\", \"Topic5\", \"Topic5\", \"Topic5\", \"Topic5\", \"Topic5\", \"Topic5\", \"Topic5\", \"Topic5\", \"Topic6\", \"Topic6\", \"Topic6\", \"Topic6\", \"Topic6\", \"Topic6\", \"Topic6\", \"Topic6\", \"Topic6\", \"Topic6\", \"Topic6\", \"Topic6\", \"Topic6\", \"Topic6\", \"Topic6\", \"Topic6\", \"Topic6\", \"Topic6\", \"Topic6\", \"Topic6\", \"Topic6\", \"Topic6\", \"Topic6\", \"Topic6\", \"Topic6\", \"Topic6\", \"Topic6\", \"Topic6\", \"Topic6\", \"Topic6\", \"Topic7\", \"Topic7\", \"Topic7\", \"Topic7\", \"Topic7\", \"Topic7\", \"Topic7\", \"Topic7\", \"Topic7\", \"Topic7\", \"Topic7\", \"Topic7\", \"Topic7\", \"Topic7\", \"Topic7\", \"Topic7\", \"Topic7\", \"Topic7\", \"Topic7\", \"Topic7\", \"Topic7\", \"Topic7\", \"Topic7\", \"Topic7\", \"Topic7\", \"Topic7\", \"Topic7\", \"Topic7\", \"Topic7\", \"Topic7\", \"Topic8\", \"Topic8\", \"Topic8\", \"Topic8\", \"Topic8\", \"Topic8\", \"Topic8\", \"Topic8\", \"Topic8\", \"Topic8\", \"Topic8\", \"Topic8\", \"Topic8\", \"Topic8\", \"Topic8\", \"Topic8\", \"Topic8\", \"Topic8\", \"Topic8\", \"Topic8\", \"Topic8\", \"Topic8\", \"Topic8\", \"Topic8\", \"Topic8\", \"Topic8\", \"Topic8\", \"Topic8\", \"Topic8\", \"Topic8\", \"Topic9\", \"Topic9\", \"Topic9\", \"Topic9\", \"Topic9\", \"Topic9\", \"Topic9\", \"Topic9\", \"Topic9\", \"Topic9\", \"Topic9\", \"Topic9\", \"Topic9\", \"Topic9\", \"Topic9\", \"Topic9\", \"Topic9\", \"Topic9\", \"Topic9\", \"Topic9\", \"Topic9\", \"Topic9\", \"Topic9\", \"Topic9\", \"Topic9\", \"Topic9\", \"Topic9\", \"Topic9\", \"Topic9\", \"Topic9\", \"Topic10\", \"Topic10\", \"Topic10\", \"Topic10\", \"Topic10\", \"Topic10\", \"Topic10\", \"Topic10\", \"Topic10\", \"Topic10\", \"Topic10\", \"Topic10\", \"Topic10\", \"Topic10\", \"Topic10\", \"Topic10\", \"Topic10\", \"Topic10\", \"Topic10\", \"Topic10\", \"Topic10\", \"Topic10\", \"Topic10\", \"Topic10\", \"Topic10\", \"Topic10\", \"Topic10\", \"Topic10\", \"Topic10\", \"Topic10\", \"Topic11\", \"Topic11\", \"Topic11\", \"Topic11\", \"Topic11\", \"Topic11\", \"Topic11\", \"Topic11\", \"Topic11\", \"Topic11\", \"Topic11\", \"Topic11\", \"Topic11\", \"Topic11\", \"Topic11\", \"Topic11\", \"Topic11\", \"Topic11\", \"Topic11\", \"Topic11\", \"Topic11\", \"Topic11\", \"Topic11\", \"Topic11\", \"Topic11\", \"Topic11\", \"Topic11\", \"Topic11\", \"Topic11\", \"Topic11\", \"Topic12\", \"Topic12\", \"Topic12\", \"Topic12\", \"Topic12\", \"Topic12\", \"Topic12\", \"Topic12\", \"Topic12\", \"Topic12\", \"Topic12\", \"Topic12\", \"Topic12\", \"Topic12\", \"Topic12\", \"Topic12\", \"Topic12\", \"Topic12\", \"Topic12\", \"Topic12\", \"Topic12\", \"Topic12\", \"Topic12\", \"Topic12\", \"Topic12\", \"Topic12\", \"Topic12\", \"Topic12\", \"Topic12\", \"Topic12\", \"Topic13\", \"Topic13\", \"Topic13\", \"Topic13\", \"Topic13\", \"Topic13\", \"Topic13\", \"Topic13\", \"Topic13\", \"Topic13\", \"Topic13\", \"Topic13\", \"Topic13\", \"Topic13\", \"Topic13\", \"Topic13\", \"Topic13\", \"Topic13\", \"Topic13\", \"Topic13\", \"Topic13\", \"Topic13\", \"Topic13\", \"Topic13\", \"Topic13\", \"Topic13\", \"Topic13\", \"Topic13\", \"Topic13\", \"Topic13\", \"Topic14\", \"Topic14\", \"Topic14\", \"Topic14\", \"Topic14\", \"Topic14\", \"Topic14\", \"Topic14\", \"Topic14\", \"Topic14\", \"Topic14\", \"Topic14\", \"Topic14\", \"Topic14\", \"Topic14\", \"Topic14\", \"Topic14\", \"Topic14\", \"Topic14\", \"Topic14\", \"Topic14\", \"Topic14\", \"Topic14\", \"Topic14\", \"Topic14\", \"Topic14\", \"Topic14\", \"Topic14\", \"Topic14\", \"Topic14\", \"Topic15\", \"Topic15\", \"Topic15\", \"Topic15\", \"Topic15\", \"Topic15\", \"Topic15\", \"Topic15\", \"Topic15\", \"Topic15\", \"Topic15\", \"Topic15\", \"Topic15\", \"Topic15\", \"Topic15\", \"Topic15\", \"Topic15\", \"Topic15\", \"Topic15\", \"Topic15\", \"Topic15\", \"Topic15\", \"Topic15\", \"Topic15\", \"Topic15\", \"Topic15\", \"Topic15\", \"Topic15\", \"Topic15\", \"Topic15\", \"Topic16\", \"Topic16\", \"Topic16\", \"Topic16\", \"Topic16\", \"Topic16\", \"Topic16\", \"Topic16\", \"Topic16\", \"Topic16\", \"Topic16\", \"Topic16\", \"Topic16\", \"Topic16\", \"Topic16\", \"Topic16\", \"Topic16\", \"Topic16\", \"Topic16\", \"Topic16\", \"Topic16\", \"Topic16\", \"Topic16\", \"Topic16\", \"Topic16\", \"Topic16\", \"Topic16\", \"Topic16\", \"Topic16\", \"Topic16\", \"Topic17\", \"Topic17\", \"Topic17\", \"Topic17\", \"Topic17\", \"Topic17\", \"Topic17\", \"Topic17\", \"Topic17\", \"Topic17\", \"Topic17\", \"Topic17\", \"Topic17\", \"Topic17\", \"Topic17\", \"Topic17\", \"Topic17\", \"Topic17\", \"Topic17\", \"Topic17\", \"Topic17\", \"Topic17\", \"Topic17\", \"Topic17\", \"Topic17\", \"Topic17\", \"Topic17\", \"Topic17\", \"Topic17\", \"Topic17\", \"Topic18\", \"Topic18\", \"Topic18\", \"Topic18\", \"Topic18\", \"Topic18\", \"Topic18\", \"Topic18\", \"Topic18\", \"Topic18\", \"Topic18\", \"Topic18\", \"Topic18\", \"Topic18\", \"Topic18\", \"Topic18\", \"Topic18\", \"Topic18\", \"Topic18\", \"Topic18\", \"Topic18\", \"Topic18\", \"Topic18\", \"Topic18\", \"Topic18\", \"Topic18\", \"Topic18\", \"Topic18\", \"Topic18\", \"Topic18\", \"Topic19\", \"Topic19\", \"Topic19\", \"Topic19\", \"Topic19\", \"Topic19\", \"Topic19\", \"Topic19\", \"Topic19\", \"Topic19\", \"Topic19\", \"Topic19\", \"Topic19\", \"Topic19\", \"Topic19\", \"Topic19\", \"Topic19\", \"Topic19\", \"Topic19\", \"Topic19\", \"Topic19\", \"Topic19\", \"Topic19\", \"Topic19\", \"Topic19\", \"Topic19\", \"Topic19\", \"Topic19\", \"Topic19\", \"Topic19\", \"Topic20\", \"Topic20\", \"Topic20\", \"Topic20\", \"Topic20\", \"Topic20\", \"Topic20\", \"Topic20\", \"Topic20\", \"Topic20\", \"Topic20\", \"Topic20\", \"Topic20\", \"Topic20\", \"Topic20\", \"Topic20\", \"Topic20\", \"Topic20\", \"Topic20\", \"Topic20\", \"Topic20\", \"Topic20\", \"Topic20\", \"Topic20\", \"Topic20\", \"Topic20\", \"Topic20\", \"Topic20\", \"Topic20\", \"Topic20\"], \"logprob\": [30.0, 29.0, 28.0, 27.0, 26.0, 25.0, 24.0, 23.0, 22.0, 21.0, 20.0, 19.0, 18.0, 17.0, 16.0, 15.0, 14.0, 13.0, 12.0, 11.0, 10.0, 9.0, 8.0, 7.0, 6.0, 5.0, 4.0, 3.0, 2.0, 1.0, -2.544, -2.8673, -3.1187, -3.3965, -3.6045, -3.608, -3.6662, -3.7087, -3.7167, -3.7181, -3.7206, -3.7435, -3.7586, -3.8072, -3.8726, -3.9046, -3.9171, -4.0076, -4.0692, -4.1564, -4.1919, -4.3049, -4.4258, -4.5129, -4.5523, -4.8052, -4.8075, -4.8659, -4.9438, -5.0242, -2.515, -4.3232, -3.5874, -2.8329, -2.3174, -2.4552, -2.6267, -2.7588, -2.8994, -3.059, -3.407, -3.5906, -3.6282, -3.8224, -3.8328, -3.8576, -3.8841, -3.8915, -3.9825, -4.0229, -4.0532, -4.0841, -4.1074, -4.1408, -4.1914, -4.3921, -4.3929, -4.4441, -4.4489, -4.5502, -4.5665, -4.661, -4.8329, -5.0282, -3.3051, -3.6919, -2.8539, -3.0084, -3.2144, -3.2726, -3.2791, -3.359, -3.5213, -3.5397, -3.5563, -3.6226, -3.7194, -3.7794, -3.8961, -3.9053, -3.9061, -3.9361, -3.9464, -3.9788, -4.0547, -4.0729, -4.0968, -4.1604, -4.2761, -4.6254, -4.6743, -4.7117, -4.7587, -4.7909, -4.8529, -4.8944, -2.7063, -2.7916, -2.1511, -2.9927, -3.0381, -3.1635, -3.2691, -3.3461, -3.3678, -3.3933, -3.4444, -3.5701, -3.6011, -3.7265, -3.8413, -3.9387, -3.945, -4.1193, -4.1284, -4.2353, -4.2961, -4.3048, -4.3157, -4.3517, -4.5429, -4.7979, -4.8331, -4.8523, -4.8571, -4.9092, -4.9141, -4.9936, -3.9892, -2.9909, -1.9845, -2.7184, -3.0932, -3.0998, -3.193, -3.2319, -3.2794, -3.2918, -3.3834, -3.584, -3.6317, -3.727, -3.7858, -4.0107, -4.0324, -4.058, -4.1868, -4.2883, -4.3259, -4.3397, -4.3847, -4.5267, -4.6643, -4.6918, -4.7102, -4.8735, -4.8961, -4.995, -5.053, -5.084, -0.683, -3.4945, -3.7406, -3.8487, -3.8559, -4.2158, -4.3125, -4.321, -4.3266, -4.5611, -4.6015, -4.6854, -4.7292, -4.7499, -4.7924, -4.7959, -4.8672, -4.9033, -4.9325, -4.9391, -5.0668, -5.0872, -5.1124, -5.1248, -5.1697, -5.2205, -5.2718, -5.282, -5.3518, -5.3706, -2.4633, -2.6531, -2.7838, -2.7934, -2.8054, -2.9235, -3.0587, -3.7099, -3.764, -3.8088, -3.9639, -4.0644, -4.0952, -4.1161, -4.1244, -4.1834, -4.2224, -4.244, -4.3174, -4.4544, -4.4596, -4.5263, -4.7119, -4.7242, -4.762, -4.8087, -4.8223, -4.9129, -4.9337, -4.9549, -1.9533, -2.5764, -2.8122, -2.8157, -2.9184, -2.9764, -3.2967, -3.3865, -3.7599, -3.8314, -3.8953, -3.8966, -3.9286, -3.983, -4.014, -4.0897, -4.2043, -4.2231, -4.4687, -4.4691, -4.6235, -4.663, -4.6881, -4.7149, -4.729, -4.8086, -5.0035, -5.2149, -5.3344, -5.3748, -1.5897, -2.8132, -2.8208, -2.9932, -3.2243, -3.3963, -3.5787, -3.6045, -3.7647, -3.7985, -4.0938, -4.1346, -4.2002, -4.2244, -4.225, -4.3352, -4.3783, -4.4069, -4.4553, -4.4988, -4.5223, -4.6669, -4.7546, -4.7744, -4.7979, -5.0236, -5.0444, -5.0889, -5.1366, -5.1601, -2.5849, -2.7535, -2.9994, -3.2885, -3.567, -3.6054, -3.6066, -3.6535, -3.7351, -4.0683, -4.1134, -4.2607, -4.2646, -4.3369, -4.3751, -4.4041, -4.4098, -4.4685, -4.4823, -4.4842, -4.4943, -4.5101, -4.5188, -4.5426, -4.5469, -4.5989, -4.6989, -4.7345, -4.7455, -4.7598, -1.7441, -1.9389, -2.4405, -2.8662, -3.1108, -3.2901, -3.7514, -3.9245, -3.9968, -4.1237, -4.1848, -4.2009, -4.213, -4.3029, -4.3461, -4.4201, -4.57, -4.6054, -4.7038, -4.7284, -4.9273, -4.9869, -5.0719, -5.0929, -5.1515, -5.2485, -5.277, -5.3313, -5.3508, -5.3749, -1.9659, -2.2249, -2.6999, -2.8767, -3.1707, -3.3518, -3.6637, -3.7125, -3.7491, -3.7631, -3.777, -3.8447, -3.8731, -4.2542, -4.2986, -4.3164, -4.4301, -4.5769, -4.6513, -4.7097, -4.7469, -4.752, -4.7742, -4.7747, -4.919, -4.933, -5.0902, -5.0941, -5.1236, -5.1455, -2.6982, -2.8216, -2.8325, -3.0697, -3.0924, -3.4266, -3.4795, -3.5767, -3.6781, -3.6945, -3.7516, -3.8307, -3.848, -4.0678, -4.1091, -4.2385, -4.275, -4.2884, -4.4588, -4.4677, -4.4849, -4.5028, -4.5229, -4.6043, -4.6452, -4.6979, -4.7392, -4.8218, -4.8513, -4.9299, -2.7532, -2.8914, -3.0737, -3.1036, -3.3332, -3.3596, -3.5101, -3.5181, -3.5797, -3.6326, -3.7079, -3.748, -3.9043, -3.9067, -4.0128, -4.0287, -4.0707, -4.1932, -4.2284, -4.2999, -4.3029, -4.4042, -4.5127, -4.5294, -4.5502, -4.5768, -4.6012, -4.6208, -4.6351, -4.687, -2.1284, -2.7811, -2.8448, -3.0702, -3.1051, -3.1719, -3.2246, -3.2835, -3.3494, -3.5012, -3.6034, -3.7617, -3.8064, -3.9939, -4.2, -4.3168, -4.3703, -4.5604, -4.699, -4.7119, -4.7409, -4.78, -4.7834, -4.8096, -4.8594, -4.8919, -4.8979, -4.9215, -5.0133, -5.0933, -2.2331, -2.9431, -3.1151, -3.4184, -3.425, -3.6438, -3.6801, -3.6876, -3.7865, -3.8357, -3.9908, -4.0873, -4.1415, -4.2428, -4.3137, -4.3536, -4.3616, -4.3821, -4.4538, -4.5298, -4.6721, -4.6726, -4.6912, -4.724, -4.7503, -4.758, -4.778, -4.7797, -4.8076, -4.8176, -2.4335, -2.7115, -2.9287, -3.0628, -3.1789, -3.1925, -3.3482, -3.4257, -3.5763, -3.7149, -3.7315, -3.7469, -3.8236, -3.9139, -3.9205, -4.0578, -4.2693, -4.3455, -4.3702, -4.5235, -4.5317, -4.5795, -4.6229, -4.6426, -4.668, -4.6831, -4.6951, -4.7057, -4.7349, -4.8735, -2.522, -3.1165, -3.1686, -3.2419, -3.3317, -3.7341, -3.7988, -3.8826, -3.9054, -3.9055, -3.9495, -3.9912, -4.0331, -4.1526, -4.1719, -4.1784, -4.1936, -4.2403, -4.2714, -4.2825, -4.2975, -4.4089, -4.4856, -4.4967, -4.6025, -4.6281, -4.6412, -4.6558, -4.7122, -4.7978, -1.6405, -2.3795, -2.6173, -2.9536, -3.0324, -3.1508, -3.8324, -3.8667, -3.8991, -3.9543, -3.9955, -4.0269, -4.1236, -4.2042, -4.2991, -4.3287, -4.524, -4.691, -4.696, -4.711, -4.744, -4.8026, -4.8493, -5.1711, -5.1989, -5.2271, -5.2289, -5.2435, -5.2829, -5.3036, -2.7057, -2.7763, -2.805, -3.0411, -3.1209, -3.2212, -3.4531, -3.5936, -3.8346, -3.8975, -3.9107, -3.9763, -4.1395, -4.2231, -4.2438, -4.2607, -4.321, -4.3661, -4.3945, -4.4985, -4.564, -4.5748, -4.592, -4.6083, -4.6477, -4.6542, -4.732, -4.9168, -4.9687, -5.0094], \"loglift\": [30.0, 29.0, 28.0, 27.0, 26.0, 25.0, 24.0, 23.0, 22.0, 21.0, 20.0, 19.0, 18.0, 17.0, 16.0, 15.0, 14.0, 13.0, 12.0, 11.0, 10.0, 9.0, 8.0, 7.0, 6.0, 5.0, 4.0, 3.0, 2.0, 1.0, 1.4633, 1.4632, 1.4632, 1.4631, 1.4631, 1.4631, 1.4631, 1.463, 1.463, 1.463, 1.463, 1.463, 1.463, 1.463, 1.463, 1.463, 1.463, 1.4629, 1.4629, 1.4628, 1.4628, 1.4628, 1.4627, 1.4626, 1.4626, 1.4624, 1.4624, 1.4623, 1.4622, 1.4621, 1.458, 1.4589, 1.4451, 1.2116, 1.6371, 1.637, 1.637, 1.637, 1.637, 1.6369, 1.6369, 1.6368, 1.6368, 1.6367, 1.6367, 1.6367, 1.6367, 1.6367, 1.6366, 1.6366, 1.6366, 1.6366, 1.6365, 1.6365, 1.6365, 1.6363, 1.6363, 1.6363, 1.6363, 1.6362, 1.6362, 1.6361, 1.6359, 1.6356, 1.6297, 1.6038, 2.5137, 2.5136, 2.5135, 2.5135, 2.5135, 2.5134, 2.5133, 2.5133, 2.5133, 2.5132, 2.5131, 2.513, 2.5129, 2.5129, 2.5129, 2.5129, 2.5129, 2.5128, 2.5127, 2.5127, 2.5127, 2.5126, 2.5124, 2.5116, 2.5115, 2.5114, 2.5113, 2.5112, 2.511, 2.5109, 2.5067, 2.3428, 2.5563, 2.556, 2.556, 2.5559, 2.5558, 2.5558, 2.5557, 2.5557, 2.5557, 2.5556, 2.5556, 2.5554, 2.5553, 2.5552, 2.5552, 2.5549, 2.5549, 2.5547, 2.5546, 2.5546, 2.5546, 2.5545, 2.5541, 2.5534, 2.5533, 2.5533, 2.5532, 2.5531, 2.553, 2.5528, 2.4708, 1.0536, 3.2624, 3.262, 3.2617, 3.2616, 3.2615, 3.2615, 3.2614, 3.2614, 3.2613, 3.2609, 3.2609, 3.2607, 3.2605, 3.26, 3.2599, 3.2598, 3.2594, 3.2591, 3.2589, 3.2589, 3.2587, 3.2581, 3.2574, 3.2572, 3.2571, 3.2561, 3.2559, 3.2552, 3.2548, 3.2545, 3.298, 3.2964, 3.2959, 3.2956, 3.2956, 3.2945, 3.2942, 3.2941, 3.2941, 3.2931, 3.2928, 3.2924, 3.2921, 3.292, 3.2917, 3.2917, 3.2912, 3.291, 3.2908, 3.2907, 3.2897, 3.2896, 3.2893, 3.2892, 3.2888, 3.2883, 3.2878, 3.2877, 3.287, 3.2868, 3.3451, 3.345, 3.3449, 3.3449, 3.3448, 3.3447, 3.3446, 3.3435, 3.3434, 3.3433, 3.3428, 3.3425, 3.3424, 3.3424, 3.3423, 3.3421, 3.342, 3.3419, 3.3416, 3.341, 3.341, 3.3406, 3.3396, 3.3395, 3.3393, 3.339, 3.3389, 3.3382, 3.3381, 3.3379, 3.4175, 3.4171, 3.4169, 3.4169, 3.4168, 3.4167, 3.4163, 3.4161, 3.4153, 3.4151, 3.415, 3.415, 3.4149, 3.4147, 3.4146, 3.4143, 3.4139, 3.4138, 3.4127, 3.4127, 3.4118, 3.4116, 3.4114, 3.4112, 3.4111, 3.4106, 3.409, 3.407, 3.4056, 3.4051, 3.5033, 3.5025, 3.5025, 3.5023, 3.502, 3.5017, 3.5013, 3.5012, 3.5008, 3.5007, 3.4997, 3.4995, 3.4993, 3.4992, 3.4992, 3.4986, 3.4984, 3.4983, 3.498, 3.4978, 3.4976, 3.4967, 3.4961, 3.4959, 3.4957, 3.4938, 3.4936, 3.4931, 3.4926, 3.4923, 3.6017, 3.6015, 3.6012, 3.6007, 3.6001, 3.6, 3.6, 3.5998, 3.5996, 3.5984, 3.5982, 3.5975, 3.5975, 3.5971, 3.5969, 3.5968, 3.5967, 3.5964, 3.5963, 3.5963, 3.5962, 3.5961, 3.596, 3.5959, 3.5959, 3.5955, 3.5948, 3.5945, 3.5944, 3.5943, 3.6346, 3.6345, 3.6342, 3.6337, 3.6334, 3.633, 3.6319, 3.6313, 3.631, 3.6305, 3.6302, 3.6301, 3.63, 3.6296, 3.6293, 3.6289, 3.6279, 3.6276, 3.6269, 3.6267, 3.6248, 3.6242, 3.6233, 3.623, 3.6223, 3.621, 3.6206, 3.6198, 3.6195, 3.6191, 3.7142, 3.714, 3.7136, 3.7134, 3.7129, 3.7125, 3.7116, 3.7115, 3.7114, 3.7113, 3.7113, 3.711, 3.7109, 3.7091, 3.7089, 3.7088, 3.708, 3.707, 3.7064, 3.7059, 3.7055, 3.7055, 3.7053, 3.7053, 3.7038, 3.7037, 3.7018, 3.7017, 3.7013, 3.701, 3.8157, 3.8156, 3.8156, 3.8152, 3.8151, 3.8143, 3.8142, 3.8139, 3.8136, 3.8135, 3.8133, 3.813, 3.8129, 3.8119, 3.8117, 3.8109, 3.8107, 3.8106, 3.8094, 3.8093, 3.8092, 3.8091, 3.8089, 3.8082, 3.8079, 3.8074, 3.807, 3.8061, 3.8058, 3.8048, 3.8411, 3.8409, 3.8406, 3.8405, 3.84, 3.8399, 3.8395, 3.8395, 3.8393, 3.8391, 3.8388, 3.8387, 3.838, 3.838, 3.8375, 3.8374, 3.8372, 3.8365, 3.8363, 3.8359, 3.8358, 3.8351, 3.8343, 3.8341, 3.8339, 3.8337, 3.8335, 3.8333, 3.8332, 3.8327, 3.8682, 3.8674, 3.8673, 3.8669, 3.8669, 3.8667, 3.8666, 3.8664, 3.8663, 3.8658, 3.8655, 3.8649, 3.8647, 3.8639, 3.8627, 3.8619, 3.8616, 3.86, 3.8587, 3.8586, 3.8583, 3.8578, 3.8578, 3.8575, 3.8569, 3.8565, 3.8564, 3.8561, 3.8549, 3.8538, 3.8766, 3.8757, 3.8753, 3.8746, 3.8746, 3.8739, 3.8737, 3.8737, 3.8733, 3.8731, 3.8724, 3.8719, 3.8715, 3.8709, 3.8704, 3.8701, 3.8701, 3.8699, 3.8694, 3.8687, 3.8674, 3.8674, 3.8672, 3.8669, 3.8666, 3.8665, 3.8663, 3.8663, 3.866, 3.8658, 3.8878, 3.8874, 3.8871, 3.8868, 3.8866, 3.8865, 3.8861, 3.8859, 3.8854, 3.8849, 3.8849, 3.8848, 3.8845, 3.8841, 3.884, 3.8833, 3.882, 3.8815, 3.8813, 3.8801, 3.88, 3.8796, 3.8792, 3.879, 3.8787, 3.8786, 3.8784, 3.8783, 3.878, 3.8764, 3.9, 3.8991, 3.899, 3.8988, 3.8985, 3.8972, 3.8969, 3.8966, 3.8965, 3.8965, 3.8962, 3.896, 3.8958, 3.8951, 3.895, 3.8949, 3.8949, 3.8945, 3.8943, 3.8943, 3.8942, 3.8933, 3.8927, 3.8926, 3.8916, 3.8914, 3.8913, 3.8911, 3.8905, 3.8896, 3.9177, 3.9172, 3.9169, 3.9164, 3.9162, 3.9159, 3.9137, 3.9135, 3.9134, 3.9131, 3.9129, 3.9127, 3.9122, 3.9117, 3.911, 3.9108, 3.9092, 3.9075, 3.9075, 3.9073, 3.907, 3.9063, 3.9057, 3.901, 3.9005, 3.9, 3.9, 3.8997, 3.899, 3.8986, 3.9832, 3.9831, 3.983, 3.9826, 3.9824, 3.9821, 3.9815, 3.9809, 3.9799, 3.9796, 3.9795, 3.9792, 3.9782, 3.9776, 3.9775, 3.9773, 3.9769, 3.9765, 3.9763, 3.9753, 3.9747, 3.9746, 3.9744, 3.9743, 3.9738, 3.9738, 3.9729, 3.9705, 3.9697, 3.9691]}, \"token.table\": {\"Topic\": [5, 10, 14, 17, 18, 6, 11, 17, 8, 16, 13, 4, 8, 13, 8, 9, 18, 12, 13, 10, 2, 13, 3, 17, 6, 8, 15, 5, 11, 6, 18, 3, 3, 11, 12, 18, 4, 9, 2, 16, 2, 14, 19, 15, 11, 5, 14, 6, 10, 13, 19, 5, 18, 1, 20, 12, 3, 2, 19, 9, 12, 17, 4, 20, 13, 14, 6, 16, 18, 19, 12, 19, 3, 1, 12, 16, 6, 3, 6, 9, 7, 3, 20, 4, 12, 13, 18, 6, 12, 20, 9, 9, 14, 7, 20, 1, 17, 10, 5, 12, 1, 19, 19, 17, 17, 19, 8, 19, 19, 12, 14, 3, 11, 18, 15, 10, 18, 12, 13, 12, 9, 14, 4, 1, 17, 5, 1, 19, 9, 2, 19, 12, 20, 7, 7, 2, 9, 6, 8, 7, 17, 19, 19, 14, 17, 6, 20, 13, 8, 15, 16, 3, 9, 19, 8, 5, 15, 12, 15, 12, 6, 8, 16, 6, 15, 3, 15, 11, 4, 7, 4, 8, 6, 6, 1, 9, 5, 11, 17, 1, 2, 3, 7, 11, 2, 20, 8, 2, 9, 13, 11, 13, 9, 1, 8, 7, 10, 12, 17, 9, 7, 14, 6, 6, 3, 11, 16, 20, 20, 2, 14, 1, 13, 13, 2, 3, 9, 7, 2, 1, 9, 10, 5, 20, 4, 20, 14, 5, 8, 18, 17, 18, 4, 18, 11, 17, 11, 1, 18, 10, 1, 10, 13, 19, 6, 11, 5, 13, 7, 4, 4, 6, 8, 7, 17, 20, 20, 20, 15, 11, 3, 10, 16, 1, 8, 17, 3, 13, 4, 14, 20, 6, 13, 2, 11, 20, 5, 14, 12, 8, 12, 1, 12, 17, 7, 18, 5, 3, 1, 2, 18, 1, 12, 1, 4, 14, 4, 9, 8, 8, 1, 13, 7, 11, 19, 9, 1, 14, 1, 10, 3, 4, 13, 2, 4, 15, 10, 20, 11, 5, 4, 7, 19, 14, 3, 4, 12, 6, 8, 20, 14, 16, 20, 6, 9, 18, 14, 11, 14, 7, 17, 15, 17, 10, 16, 6, 16, 17, 12, 5, 10, 18, 16, 17, 3, 6, 16, 17, 17, 2, 4, 10, 4, 18, 12, 12, 14, 9, 16, 15, 3, 8, 15, 1, 2, 19, 11, 2, 4, 10, 20, 1, 3, 16, 18, 15, 16, 4, 14, 9, 15, 4, 14, 19, 17, 19, 7, 2, 13, 3, 7, 2, 19, 14, 13, 6, 2, 19, 5, 3, 11, 16, 20, 16, 12, 10, 1, 4, 8, 2, 15, 4, 2, 20, 13, 10, 2, 3, 2, 17, 18, 6, 16, 15, 19, 15, 16, 2, 18, 11, 3, 18, 3, 18, 20, 4, 3, 11, 7, 8, 5, 9, 10, 15, 3, 11, 8, 18, 1, 4, 1, 13, 5, 10, 7, 16, 15, 13, 2, 5, 16, 12, 1, 1, 8, 11, 13, 19, 10, 18, 6, 5, 2, 18, 19, 9, 14, 15, 11, 10, 15, 15, 7, 14, 10, 9, 4, 19, 7, 2, 5, 15, 9, 12, 11, 5, 17, 1, 15, 10, 5, 4, 14, 10, 16, 7, 1, 3, 7, 15, 15, 19, 1, 16, 17, 14, 5, 8, 4, 5, 1, 4, 9, 20, 9, 5, 13, 15, 18, 15, 10, 7, 5, 3, 11, 18, 8, 13, 16, 2, 8, 5, 3, 8, 2, 15, 9, 18, 16, 2, 11, 17, 20, 11, 17, 20, 6, 10, 4, 13, 7, 8, 5, 2, 7, 16, 14, 13, 19, 1, 10, 4, 20, 20, 13, 10, 12, 4, 1, 2, 9, 16, 14, 10, 7, 1, 3, 17, 1, 12, 8, 5, 18, 7, 11, 19, 1, 14, 3, 3, 20, 16, 12, 16, 7, 9, 6, 6, 6], \"Freq\": [0.9986469663525499, 0.9930043312926436, 0.9881227880543352, 0.999229345779887, 0.9964101989044513, 0.9940504650193033, 0.9798746429769063, 0.9900061643666047, 0.9967402495484281, 0.9950980583125153, 0.9920524228877624, 0.9991469348401187, 0.9970883954232115, 0.9939494033184212, 0.9978770229219909, 0.9948275916472539, 0.98792536194189, 0.9904731654331576, 0.996717083875734, 0.9977849128137041, 0.9990989411372535, 0.9948190509452611, 0.9965951188340254, 0.9861425967138997, 0.9941281643248019, 0.9923435004513905, 0.9882557980144384, 0.9932133965376669, 0.9937909810228253, 0.9966127375037227, 0.9935029995793878, 0.9995662954236152, 0.9967381049657571, 0.9891479465472963, 0.9914199387694802, 0.9905781139715393, 0.9955783774689085, 0.9949208508497724, 0.9997752428094806, 0.9970773669604787, 0.9996590034738783, 0.9961218487690642, 0.9973878966379408, 0.9893149114323024, 0.990234803721907, 0.9925913120748975, 0.994466485162722, 0.9962773426980763, 0.9924513496160092, 0.9989021771137172, 0.9994684127019511, 0.9994433608373646, 0.9900342566726947, 0.9992161115743526, 0.9820803048967411, 0.9981790223692247, 0.9989889955450012, 0.9990320215522123, 0.9769656298837367, 0.9987934148627546, 0.9967576574956742, 0.9933409112982816, 0.9989150057396168, 0.9985605205647982, 0.9981353213695875, 0.9957916934076941, 0.9928179410072512, 0.9951756300972848, 0.9869178232082458, 0.9986415585584029, 0.9903542301985441, 0.9939471813719787, 0.9985712808485179, 0.9998085688912931, 0.9933850037370854, 0.9964334562186664, 0.9949610333763292, 0.9983335201603241, 0.9951736757645177, 0.9990004087466252, 0.9908814852182677, 0.9967231882964064, 0.9879985356075001, 0.9993196507610409, 0.9930777709401244, 0.9925385921706176, 0.995242942575121, 0.992026238905934, 0.9804314733770157, 0.9962248390435577, 0.9974348970168961, 0.9942047879542603, 0.9962231211188716, 0.9946300105430752, 0.9974270516248204, 0.9998364342503684, 0.993369960832936, 0.9907186338559101, 0.9986500842879912, 0.9899888095621482, 0.9995227974207024, 0.9955225959893642, 0.9989257097536205, 0.9916899146663477, 0.9911313982509757, 0.9952771509599919, 0.9983244510703568, 0.9910032260541046, 0.9888924883719414, 0.9980967453807646, 0.9953360604682866, 0.9970263981243891, 0.9862481566112845, 0.9979009977665131, 0.9977989843261942, 0.9974029201877885, 0.9930601523590113, 0.9884454385188884, 0.991525552293094, 0.9981055014799614, 0.9839314144137614, 0.9970698262585443, 0.9994583085551765, 0.9995045404296845, 0.9976884622555451, 0.98850519854255, 0.9990330637893827, 0.9932853081224388, 0.9936045277002222, 0.9994362501935364, 0.9960951361326481, 0.9904542777045927, 0.9945720008628373, 0.9990296556095187, 0.990721876287621, 0.9993929813926652, 0.9984298613952433, 0.9898943921729808, 0.9958538238517596, 0.9963073216619015, 0.989767015850946, 0.9751903495604279, 0.9814248658469199, 0.9978220443560536, 0.9913503442155616, 0.9999172392453327, 0.9851488478922112, 0.9958518206034874, 0.9955800148508811, 0.9932873217432511, 0.9918692704890288, 0.9964523168331847, 0.9965013979017037, 0.9934186449363859, 0.9979170565321812, 0.9979148413968476, 0.9995886729394692, 0.9972774243473431, 0.9897715544360808, 0.9962184116601767, 0.991503547493236, 0.9937149290098788, 0.9911077014990933, 0.9976133795828223, 0.9956748744193342, 0.9989040157179796, 0.9849763964746833, 0.9934344524504155, 0.9991160011217547, 0.9974453204461081, 0.9996883833674568, 0.9911527096029261, 0.99317127708148, 0.9953557139752744, 0.9991800465186668, 0.9897621888773332, 0.9935303124568169, 0.992289228090769, 0.9987005353619958, 0.13854920562837583, 0.018353271394927706, 0.8424511438338385, 0.9979277049288096, 0.9953829587671482, 0.9996937197798174, 0.9977793442872968, 0.9989233075058845, 0.9999288817065943, 0.9968036612780383, 0.9945025250507681, 0.9957433375205478, 0.9977868065454674, 0.9970120077450851, 0.9996751526574398, 0.9926466416930174, 0.9911877783498977, 0.9987131564376076, 0.9928410117766607, 0.9990513988819152, 0.9905002749377655, 0.9950483926961247, 0.9978058500250194, 0.9941405744629452, 0.9876528468790928, 0.9990074397728502, 0.9989184331165717, 0.9925408410932598, 0.9854019450286831, 0.9843600258154751, 0.9994900960751552, 0.9958824795636202, 0.9990074801992312, 0.9985156072847758, 0.9927489066618448, 0.9673880278604096, 0.03255632786068686, 0.9953284507111481, 0.9972341080149077, 0.999107793475845, 0.9998268634224319, 0.9973130834550903, 0.9921333165248631, 0.9967688915541196, 0.9950462407110333, 0.9985307152102336, 0.9945648390205761, 0.9914819839739504, 0.9973024027063625, 0.9992605631642323, 0.9925685419519891, 0.9976456191734114, 0.9980198931041607, 0.9972515701654564, 0.9918937793574039, 0.9896016210223145, 0.9866683628563161, 0.9972848826284464, 0.9988415834246639, 0.9952771517584806, 0.9987604336891184, 0.9985421450483629, 0.997199773747726, 0.9962450094067679, 0.9934330032647446, 0.9949335973117466, 0.9825534325205532, 0.9988166006594792, 0.9872833334552913, 0.9937982043446459, 0.9995788586911573, 0.9983661236914517, 0.9938986926640857, 0.998614256109821, 0.9966479583711825, 0.9926218820705704, 0.9950956466701325, 0.9972578081857855, 0.9964489232937689, 0.9982089366570646, 0.993776644978048, 0.9969897217280523, 0.9964031729788283, 0.9986842700574479, 0.9996009720783803, 0.9962779454896318, 0.992352364017187, 0.9994500551227447, 0.9918981926303247, 0.9988652440908754, 0.997751683472711, 0.9973100705216968, 0.99518506019191, 0.9977388226166701, 0.9998558087485901, 0.997743431553497, 0.9917916515474298, 0.996754942636538, 0.989074391341953, 0.9957639140964246, 0.9933209445259373, 0.9982221166243688, 0.9997360156116187, 0.9974165263363607, 0.9957204047494164, 0.9987197000693064, 0.9986413083406717, 0.9983032676516705, 0.998856053792001, 0.007072963635839659, 0.9925725635628322, 0.9915588887373508, 0.9995683930370011, 0.9964676037708708, 0.7774030447589201, 0.22251271584617183, 0.9906827436826333, 0.9987733173325096, 0.994229240476159, 0.9966241289158476, 0.9932192416763629, 0.9998800748948853, 0.9957262108755189, 0.9983322019094073, 0.9980853375325017, 0.9881352726317133, 0.9857950328051093, 0.999665033840781, 0.9909321322709413, 0.9995425047252902, 0.9960747793455069, 0.9984507840257448, 0.9985712050157716, 0.9966625556752595, 0.9997067660115538, 0.9976320721056531, 0.9829203906485261, 0.9921463040076477, 0.9946070341001202, 0.9877195171180541, 0.990083919403378, 0.9992044297406034, 0.9948014234407262, 0.9849511072003707, 0.9906473671084788, 0.9925561411806288, 0.007006278643627968, 0.9912993695765916, 0.9977013122880433, 0.988475065155999, 0.9845772938175832, 0.9950072279447133, 0.9957577770438092, 0.9881875288406728, 0.9976159357884492, 0.9970445969893597, 0.9972345431059988, 0.9923008379794955, 0.9924600423058987, 0.9980203641618453, 0.9972982874251228, 0.9951742584665784, 0.9989914561509359, 0.9986859702788161, 0.9972276820644015, 0.997393510020242, 0.9939278009788847, 0.9937520767650235, 0.9913764321333306, 0.9938453499063123, 0.9952738944561866, 0.9942664638113142, 0.9940340172053478, 0.9939514752610895, 0.9958969633296381, 0.9992871910976214, 0.9946187384282733, 0.9836006959144621, 0.9945871757523215, 0.9918585676150481, 0.9999001201249031, 0.9954572003049547, 0.9962047618083542, 0.9983351187532287, 0.9927996853006075, 0.9991658374560908, 0.9991808684409579, 0.9984769872002939, 0.9950874325266515, 0.9947948905075803, 0.9773725300460375, 0.9992176266028738, 0.9976099688179949, 0.9948487689898478, 0.9997608489892276, 0.9992405290157438, 0.9954173634700161, 0.9988343095346379, 0.9992245506780751, 0.9987228622601618, 0.9960310366525458, 0.9971764460825984, 0.9958557312254588, 0.004126474024414884, 0.9991614926990785, 0.9934269364790601, 0.9837740894772492, 0.9974123758663102, 0.9975354532945067, 0.9947420566975088, 0.9827609290536439, 0.9901403192622575, 0.9977186132541986, 0.9948684186906864, 0.9901025752361292, 0.9900311285738619, 0.9884911242279091, 0.998203813667982, 0.9994261873810981, 0.9949679056113429, 0.9996275843580541, 0.9988228846759905, 0.998954851719423, 0.9980871529776141, 0.99371799986281, 0.994877516957191, 0.9980161392481048, 0.9995726271515031, 0.9950471412278741, 0.9982430147934787, 0.9994267508646092, 0.9813933845666323, 0.9913604459301598, 0.9958085996766487, 0.986735158472636, 0.9870259188125132, 0.9902788260523953, 0.9817502926968829, 0.01787363988690121, 0.9983646374170668, 0.9981988376680329, 0.9987662414285692, 0.9989091166554673, 0.999485763793295, 0.9908907617901207, 0.9912812317082722, 0.9941616860032582, 0.9997457169141427, 0.999316716792271, 0.9989601639177766, 0.9948872028534846, 0.9950750693688307, 0.9949863320796591, 0.9949235658757326, 0.9975789462524794, 0.9941124785251035, 0.9942149605639757, 0.9957553278890252, 0.999654065718332, 0.9989654410588483, 0.9921698683355905, 0.9990753785815762, 0.9930183947522686, 0.998965871002718, 0.9949673462326002, 0.9979165699004353, 0.9989284918621576, 0.9982675402858381, 0.9987930264216281, 0.995176419429202, 0.996377197397923, 0.9931081824268995, 0.991572883616979, 0.9985896906287244, 0.9958936338062924, 0.9994036476702789, 0.9836983955348021, 0.9995676170049139, 0.9885431557066982, 0.999681367778027, 0.999236355152118, 0.9990113671281573, 0.9906317075742068, 0.999562644017058, 0.9922750060870926, 0.9928759583577316, 0.9883552349269699, 0.9960795835064241, 0.9955327937527364, 0.9998437334354418, 0.996390815040401, 0.9946389920868132, 0.9983197699860614, 0.999619463559371, 0.9995883287432175, 0.9912731703846379, 0.9878043404327707, 0.9923457149305734, 0.9993130026506671, 0.9972607515187545, 0.9945207594034576, 0.9981102467536107, 0.9970422086514256, 0.9998413006429626, 0.9940869571207069, 0.9979799831440581, 0.9998396408328554, 0.9954017058341537, 0.9959251583934434, 0.9932257067763449, 0.991111024533815, 0.9956070350885462, 0.9975611107022794, 0.9986465879587957, 0.9955461032540784, 0.995345294389005, 0.9950127803870689, 0.9950609187016548, 0.9935834526849726, 0.9960632475219872, 0.999554502169728, 0.9927963479522296, 0.9909458899870471, 0.984698396696805, 0.9939172065877161, 0.9996940920700872, 0.9951190973585649, 0.9961233335488493, 0.9985007758796134, 0.9965134661095546, 0.9900294455840317, 0.9965664207499747, 0.9991590023058391, 0.9969360491903724, 0.9945335335701905, 0.9942460855364249, 0.999419143602881, 0.9989142820314699, 0.9990675424014871, 0.9956042628300663, 0.9924128093446026, 0.9935976572868571, 0.9887256494893233, 0.9993522821693414, 0.9862296137948243, 0.9857326978679362, 0.9927093824132456, 0.9980938550009765, 0.9939678314986946, 0.9964601196939118, 0.9987908900807203, 0.08127743719023381, 0.9184350402496421, 0.9992836716701131, 0.9850522838990552, 0.9971297879544355, 0.9965192326796911, 0.9972527117108506, 0.9965152476343097, 0.9927259621908825, 0.9977039828040032, 0.9928735235362139, 0.9995774084694642, 0.9986077768303707, 0.9988638924679328, 0.9968133654328013, 0.9963828463023078, 0.9949431081421589, 0.9977962263975693, 0.9968943804510844, 0.9995328670151785, 0.9991424277038298, 0.9963629905088832, 0.9956628058002309, 0.9964122656155887, 0.9998628570174097, 0.997906190881757, 0.9972542960920576, 0.9942777627295836, 0.9884798669871978, 0.9991381430336456, 0.9997195904111135, 0.996775203644297, 0.9887410692577732, 0.9925474772173932, 0.9967179461143406, 0.9932748928677452, 0.9879492717480064, 0.9937519257492282, 0.9991754958132507, 0.9926451305786002, 0.9938846572505134, 0.9963340606186772, 0.9991757875964167, 0.9995242656090029, 0.9974026594290311, 0.9910992693834757, 0.9947627586447643, 0.9880075573765117, 0.9783829349023755, 0.9997826475310987, 0.9911384796247643, 0.9991198746494759, 0.9970437780810565, 0.9979363429039827, 0.9993747423864366, 0.9915632913658649, 0.980219408049275, 0.9997546666208674, 0.9946544568857603, 0.0052943102461642955, 0.9973054206622743, 0.9868329116212139, 0.9966023814555665, 0.991149076287062, 0.9985617695157625, 0.9995255376285372, 0.999149144841001, 0.99645089101995, 0.9985011210597565, 0.9894437462753755, 0.9963824941218963, 0.9992185964426842, 0.9974726175535137, 0.9981312255925717, 0.9913604589637941, 0.9864724550451799, 0.9997720413705289, 0.9958994588995533, 0.9989601682406452, 0.9990512615261622, 0.9940478435755346, 0.9922258669214954, 0.9961836264737345, 0.9887391042013357, 0.9963871754378727, 0.9926583928660131, 0.9894147829580165, 0.9945830577054349, 0.9933733196808849], \"Term\": [\"absolutely\", \"accentuate\", \"accommodate\", \"actually\", \"addition\", \"adjustable\", \"adn\", \"afraid\", \"agree\", \"airy\", \"allow\", \"almost\", \"already\", \"alter\", \"always\", \"amount\", \"anyway\", \"anywhere\", \"appear\", \"area\", \"arm\", \"armhole\", \"arrive\", \"athletic\", \"attach\", \"attention\", \"avoid\", \"away\", \"awesome\", \"awkward\", \"baby\", \"back\", \"bad\", \"baggy\", \"band\", \"barely\", \"base\", \"basic\", \"be\", \"bead\", \"beautiful\", \"beautifully\", \"become\", \"begin\", \"beige\", \"believe\", \"belly\", \"belt\", \"best\", \"better\", \"big\", \"bit\", \"bite\", \"black\", \"block\", \"blouse\", \"blue\", \"body\", \"bold\", \"boot\", \"bootie\", \"bother\", \"bottom\", \"boxy\", \"bra\", \"bright\", \"bring\", \"brown\", \"build\", \"bust\", \"busty\", \"butt\", \"button\", \"buy\", \"calf\", \"cami\", \"camisole\", \"can\", \"careful\", \"casual\", \"catch\", \"cheap\", \"check\", \"chest\", \"chic\", \"choose\", \"classic\", \"classy\", \"clean\", \"clingy\", \"close\", \"closet\", \"clothe\", \"clothing\", \"coat\", \"color\", \"colored\", \"combination\", \"come\", \"comfort\", \"comfortable\", \"comfortably\", \"comfy\", \"comment\", \"compare\", \"complaint\", \"compliment\", \"concept\", \"conservative\", \"consider\", \"construction\", \"cool\", \"correct\", \"cotton\", \"could\", \"cover\", \"coverage\", \"crazy\", \"create\", \"crop\", \"currently\", \"curve\", \"cut\", \"cute\", \"dark\", \"daughter\", \"day\", \"deal\", \"deep\", \"definitely\", \"delicate\", \"describe\", \"description\", \"design\", \"designer\", \"detail\", \"different\", \"difficult\", \"dinner\", \"disappoint\", \"disappointing\", \"disappointment\", \"discount\", \"drape\", \"draw\", \"dress\", \"dressed\", \"dry\", \"due\", \"early\", \"edge\", \"elastic\", \"elegant\", \"else\", \"embroidery\", \"end\", \"enough\", \"especially\", \"event\", \"ever\", \"everyday\", \"excellent\", \"exception\", \"exchange\", \"excited\", \"expect\", \"expectation\", \"expensive\", \"extra\", \"eye\", \"fabric\", \"fabulous\", \"fact\", \"fairly\", \"fall\", \"fantastic\", \"far\", \"fast\", \"favorite\", \"feel\", \"feel\", \"feel\", \"feminine\", \"finally\", \"find\", \"fine\", \"first\", \"fit\", \"fitting\", \"fix\", \"flare\", \"flat\", \"flatter\", \"flattering\", \"flimsy\", \"floral\", \"flow\", \"flower\", \"flowy\", \"fold\", \"form_fitte\", \"frame\", \"friend\", \"fringe\", \"front\", \"full\", \"funny\", \"garment\", \"gather\", \"get\", \"girl\", \"give\", \"glad\", \"glove\", \"go\", \"go\", \"gold\", \"good\", \"gorgeous\", \"great\", \"green\", \"grey\", \"half\", \"hand\", \"hang\", \"hanger\", \"happen\", \"happy\", \"have\", \"head\", \"heavy\", \"heel\", \"help\", \"hem\", \"hemline\", \"hesitant\", \"hide\", \"high\", \"highly_recommend\", \"hip\", \"hit\", \"hold\", \"hole\", \"holiday\", \"home\", \"honey\", \"hope\", \"hopefully\", \"hot\", \"however\", \"huge\", \"idea\", \"ill\", \"imagine\", \"immediately\", \"incredibly\", \"instead\", \"interesting\", \"issue\", \"itchy\", \"item\", \"ivory\", \"jacket\", \"jean\", \"jumpsuit\", \"justice\", \"keep\", \"kimono\", \"kind\", \"knee\", \"knit\", \"know\", \"lace\", \"large\", \"last\", \"lavender\", \"lay\", \"lb\", \"leather\", \"leave\", \"legging\", \"length\", \"less\", \"let\", \"light\", \"lightweight\", \"like\", \"line\", \"little\", \"little\", \"live\", \"long\", \"longer\", \"look\", \"look\", \"looking\", \"loose\", \"lose\", \"lot\", \"lounge\", \"love\", \"loved\", \"lovely\", \"low\", \"machine_washable\", \"maeve\", \"make\", \"match\", \"material\", \"maternity\", \"may\", \"maybe\", \"mean\", \"medium\", \"mention\", \"mid\", \"middle\", \"mine\", \"miss\", \"mix\", \"model\", \"money\", \"mostly\", \"movement\", \"much\", \"much\", \"multiple\", \"must\", \"mute\", \"name\", \"narrow\", \"natural\", \"nearly\", \"neck\", \"neckline\", \"need\", \"negative\", \"neutral\", \"never\", \"new\", \"night\", \"normal\", \"normally\", \"note\", \"notice\", \"occasion\", \"odd\", \"offer\", \"office\", \"often\", \"ok\", \"old\", \"olive\", \"one\", \"online\", \"opinion\", \"opt\", \"option\", \"orange\", \"order\", \"other\", \"otherwise\", \"overall\", \"overly\", \"pair\", \"pant\", \"part\", \"particular\", \"pass\", \"past\", \"pattern\", \"people\", \"peplum\", \"perfect\", \"perfectly\", \"perhaps\", \"person\", \"petite\", \"photo\", \"pic\", \"pick\", \"picture\", \"picture\", \"piece\", \"pilcro\", \"pin\", \"pink\", \"place\", \"plan\", \"pleased\", \"plenty\", \"pocket\", \"point\", \"pop\", \"portion\", \"possible\", \"prefer\", \"pretty\", \"previous\", \"price\", \"print\", \"probably\", \"problem\", \"product\", \"provide\", \"pull\", \"purchase\", \"purple\", \"put\", \"quality\", \"rack\", \"raise\", \"rayon\", \"ready\", \"real_life\", \"realize\", \"really\", \"really\", \"receive\", \"recommend\", \"red\", \"reference\", \"regular\", \"relaxed\", \"remind\", \"rest\", \"retailer\", \"return\", \"review\", \"rich\", \"rise\", \"romantic\", \"romper\", \"room\", \"roomy\", \"round\", \"ruffle\", \"run\", \"s\", \"sad\", \"sale\", \"sandal\", \"say\", \"scratchy\", \"seam\", \"see\", \"seem\", \"sell\", \"send\", \"several\", \"sexy\", \"shade\", \"shape\", \"shapeless\", \"sheer\", \"shimmer\", \"shirt\", \"shoe\", \"short\", \"shoulder\", \"show\", \"shrink\", \"side\", \"silhouette\", \"silk\", \"silver\", \"similar\", \"simple\", \"size\", \"sized\", \"sizing\", \"skinny\", \"skirt\", \"sleeve\", \"sleeveless\", \"slender\", \"slight\", \"slightly\", \"slim\", \"slimme\", \"slip\", \"slit\", \"small\", \"snag\", \"snug\", \"soft\", \"solid\", \"sometimes\", \"soon\", \"sort\", \"special\", \"spot\", \"spring\", \"stand\", \"start\", \"state\", \"stay\", \"stick\", \"stiff\", \"still\", \"stitching\", \"stock\", \"stomach\", \"stop\", \"store\", \"straight\", \"strap\", \"stretch\", \"stretchy\", \"structure\", \"stunning\", \"style\", \"stylish\", \"substantial\", \"suit\", \"summer\", \"super\", \"sure\", \"surprise\", \"surprisingly\", \"suspect\", \"swallow\", \"sweater\", \"sweatshirt\", \"sweet\", \"swingy\", \"tad\", \"tag\", \"tailor\", \"take\", \"tall\", \"tall\", \"tank\", \"taste\", \"tee\", \"tell\", \"tent\", \"texture\", \"there\", \"thick\", \"thigh\", \"thin\", \"thing\", \"think\", \"though\", \"thought\", \"thread\", \"throw\", \"tie\", \"tight\", \"time\", \"tiny\", \"today\", \"ton\", \"top\", \"torso\", \"touch\", \"trim\", \"trouser\", \"true\", \"try\", \"tuck\", \"tunic\", \"turn\", \"type\", \"typical\", \"unflattere\", \"unflattering\", \"unfortunately\", \"unusual\", \"upper\", \"use\", \"usual\", \"usually\", \"version\", \"vest\", \"vibrant\", \"visible\", \"volume\", \"waist\", \"waistband\", \"want\", \"wardrobe\", \"warm\", \"wash\", \"washing\", \"waste\", \"way\", \"wear\", \"wear\", \"weather\", \"website\", \"wedding\", \"weekend\", \"weight\", \"well\", \"white\", \"whole\", \"wide\", \"width\", \"will\", \"wish\", \"woman\", \"wonderful\", \"wool\", \"word\", \"work\", \"worry\", \"worth\", \"would\", \"wrap\", \"wrinkle\", \"wrong\", \"yarn\", \"year\", \"yellow\", \"yesterday\", \"yet\", \"zipper\"]}, \"R\": 30, \"lambda.step\": 0.01, \"plot.opts\": {\"xlab\": \"PC1\", \"ylab\": \"PC2\"}, \"topic.order\": [14, 3, 20, 19, 12, 9, 17, 5, 4, 11, 16, 15, 7, 2, 8, 18, 1, 10, 6, 13]};\n",
              "\n",
              "function LDAvis_load_lib(url, callback){\n",
              "  var s = document.createElement('script');\n",
              "  s.src = url;\n",
              "  s.async = true;\n",
              "  s.onreadystatechange = s.onload = callback;\n",
              "  s.onerror = function(){console.warn(\"failed to load library \" + url);};\n",
              "  document.getElementsByTagName(\"head\")[0].appendChild(s);\n",
              "}\n",
              "\n",
              "if(typeof(LDAvis) !== \"undefined\"){\n",
              "   // already loaded: just create the visualization\n",
              "   !function(LDAvis){\n",
              "       new LDAvis(\"#\" + \"ldavis_el3581403878911255846034407154\", ldavis_el3581403878911255846034407154_data);\n",
              "   }(LDAvis);\n",
              "}else if(typeof define === \"function\" && define.amd){\n",
              "   // require.js is available: use it to load d3/LDAvis\n",
              "   require.config({paths: {d3: \"https://d3js.org/d3.v5\"}});\n",
              "   require([\"d3\"], function(d3){\n",
              "      window.d3 = d3;\n",
              "      LDAvis_load_lib(\"https://cdn.jsdelivr.net/gh/bmabey/pyLDAvis@3.3.1/pyLDAvis/js/ldavis.v3.0.0.js\", function(){\n",
              "        new LDAvis(\"#\" + \"ldavis_el3581403878911255846034407154\", ldavis_el3581403878911255846034407154_data);\n",
              "      });\n",
              "    });\n",
              "}else{\n",
              "    // require.js not available: dynamically load d3 & LDAvis\n",
              "    LDAvis_load_lib(\"https://d3js.org/d3.v5.js\", function(){\n",
              "         LDAvis_load_lib(\"https://cdn.jsdelivr.net/gh/bmabey/pyLDAvis@3.3.1/pyLDAvis/js/ldavis.v3.0.0.js\", function(){\n",
              "                 new LDAvis(\"#\" + \"ldavis_el3581403878911255846034407154\", ldavis_el3581403878911255846034407154_data);\n",
              "            })\n",
              "         });\n",
              "}\n",
              "</script>"
            ],
            "text/plain": [
              "PreparedData(topic_coordinates=              x         y  topics  cluster       Freq\n",
              "topic                                                \n",
              "13     0.338524  0.175613       1        1  23.145102\n",
              "2      0.199608 -0.383037       2        1  19.453214\n",
              "19     0.121486 -0.139214       3        1   8.093521\n",
              "18     0.234858  0.203190       4        1   7.757723\n",
              "11    -0.012212 -0.019781       5        1   3.828156\n",
              "8     -0.012357 -0.019855       6        1   3.695197\n",
              "16    -0.023970 -0.010765       7        1   3.523311\n",
              "4     -0.026894 -0.009309       8        1   3.278129\n",
              "3     -0.041231  0.002086       9        1   3.008865\n",
              "10    -0.057085  0.011152      10        1   2.725264\n",
              "15    -0.055749  0.009987      11        1   2.638298\n",
              "14    -0.055891  0.010563      12        1   2.436075\n",
              "6     -0.074591  0.020295      13        1   2.199219\n",
              "1     -0.072998  0.019655      14        1   2.143838\n",
              "7     -0.074206  0.020461      15        1   2.088026\n",
              "17    -0.077310  0.021890      16        1   2.070302\n",
              "0     -0.074789  0.020243      17        1   2.046851\n",
              "9     -0.079210  0.022237      18        1   2.021651\n",
              "5     -0.074163  0.020432      19        1   1.987600\n",
              "12    -0.081820  0.024154      20        1   1.859659, topic_info=             Term         Freq        Total Category  logprob  loglift\n",
              "54          dress  8806.000000  8806.000000  Default  30.0000  30.0000\n",
              "24           size  9043.000000  9043.000000  Default  29.0000  29.0000\n",
              "7             fit  7879.000000  7879.000000  Default  28.0000  28.0000\n",
              "38           wear  8877.000000  8877.000000  Default  27.0000  27.0000\n",
              "36           love  8578.000000  8578.000000  Default  26.0000  26.0000\n",
              "...           ...          ...          ...      ...      ...      ...\n",
              "569   description    83.533210    84.458440  Topic20  -4.6542   3.9738\n",
              "1570         name    77.280920    78.206150  Topic20  -4.7320   3.9729\n",
              "2793        block    64.242557    65.167787  Topic20  -4.9168   3.9705\n",
              "1355      dressed    60.994347    61.919577  Topic20  -4.9687   3.9697\n",
              "2440     lavender    58.563070    59.488301  Topic20  -5.0094   3.9691\n",
              "\n",
              "[640 rows x 6 columns], token_table=      Topic      Freq         Term\n",
              "term                              \n",
              "458       5  0.998647   absolutely\n",
              "760      10  0.993004   accentuate\n",
              "1641     14  0.988123  accommodate\n",
              "460      17  0.999229     actually\n",
              "1090     18  0.996410     addition\n",
              "...     ...       ...          ...\n",
              "148       7  0.996387         year\n",
              "1036      9  0.992658       yellow\n",
              "1213      6  0.989415    yesterday\n",
              "308       6  0.994583          yet\n",
              "291       6  0.993373       zipper\n",
              "\n",
              "[619 rows x 3 columns], R=30, lambda_step=0.01, plot_opts={'xlab': 'PC1', 'ylab': 'PC2'}, topic_order=[14, 3, 20, 19, 12, 9, 17, 5, 4, 11, 16, 15, 7, 2, 8, 18, 1, 10, 6, 13])"
            ]
          },
          "metadata": {
            "tags": []
          },
          "execution_count": 99
        }
      ]
    },
    {
      "cell_type": "markdown",
      "metadata": {
        "id": "ddA0EhmPgNMv"
      },
      "source": [
        "A good topic model will have fairly big, non-overlapping bubbles scattered throughout the chart instead of being clustered in one quadrant. \n",
        "\n",
        "A model with too many topics or repeated topics, will typically have many overlaps, small sized bubbles clustered in one region of the chart.\n",
        "\n"
      ]
    },
    {
      "cell_type": "markdown",
      "metadata": {
        "id": "ABT7RYSJlRQ3"
      },
      "source": [
        "**Insight**: \n",
        "\n",
        "- Problem about the size small and the measuring in shoulder    \n",
        "- Customer services about the return service for online order may receive bad feedback from customers\n",
        "\n",
        "**Recomendation**:\n",
        "Check back with the prodution department to improve the measures of the products and check with customer services department due to bad review to bring in some improvements to give customer higher quality of customer services."
      ]
    },
    {
      "cell_type": "markdown",
      "metadata": {
        "id": "MIkI9VcBj58a"
      },
      "source": [
        "**Sum** **up**"
      ]
    },
    {
      "cell_type": "markdown",
      "metadata": {
        "id": "PhL-KOndkARH"
      },
      "source": [
        "- Determine the target segment for the product: women from 30 to 40 +\n",
        "- Use the insight from customers to improve the product\n",
        "- Visualize the data and transform it into informative outputs\n"
      ]
    }
  ]
}